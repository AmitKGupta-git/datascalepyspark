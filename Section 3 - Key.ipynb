{
 "cells": [
  {
   "cell_type": "code",
   "execution_count": 1,
   "metadata": {},
   "outputs": [
    {
     "data": {
      "application/vnd.jupyter.widget-view+json": {
       "model_id": "6c733ff488244df281bc6d5c849ff64b",
       "version_major": 2,
       "version_minor": 0
      },
      "text/plain": [
       "VBox()"
      ]
     },
     "metadata": {},
     "output_type": "display_data"
    },
    {
     "name": "stdout",
     "output_type": "stream",
     "text": [
      "Starting Spark application\n"
     ]
    },
    {
     "data": {
      "text/html": [
       "<table>\n",
       "<tr><th>ID</th><th>YARN Application ID</th><th>Kind</th><th>State</th><th>Spark UI</th><th>Driver log</th><th>Current session?</th></tr><tr><td>5</td><td>application_1603838352695_0006</td><td>pyspark</td><td>idle</td><td><a target=\"_blank\" href=\"http://ip-172-31-4-225.ec2.internal:20888/proxy/application_1603838352695_0006/\">Link</a></td><td><a target=\"_blank\" href=\"http://ip-172-31-7-171.ec2.internal:8042/node/containerlogs/container_1603838352695_0006_01_000001/livy\">Link</a></td><td>✔</td></tr></table>"
      ],
      "text/plain": [
       "<IPython.core.display.HTML object>"
      ]
     },
     "metadata": {},
     "output_type": "display_data"
    },
    {
     "data": {
      "application/vnd.jupyter.widget-view+json": {
       "model_id": "",
       "version_major": 2,
       "version_minor": 0
      },
      "text/plain": [
       "FloatProgress(value=0.0, bar_style='info', description='Progress:', layout=Layout(height='25px', width='50%'),…"
      ]
     },
     "metadata": {},
     "output_type": "display_data"
    },
    {
     "name": "stdout",
     "output_type": "stream",
     "text": [
      "SparkSession available as 'spark'.\n"
     ]
    },
    {
     "data": {
      "application/vnd.jupyter.widget-view+json": {
       "model_id": "",
       "version_major": 2,
       "version_minor": 0
      },
      "text/plain": [
       "FloatProgress(value=0.0, bar_style='info', description='Progress:', layout=Layout(height='25px', width='50%'),…"
      ]
     },
     "metadata": {},
     "output_type": "display_data"
    },
    {
     "name": "stdout",
     "output_type": "stream",
     "text": [
      "Collecting boto3\n",
      "  Using cached https://files.pythonhosted.org/packages/f2/d9/e8a56bd0953914f60207af4c41bb3947c47ca03577b1fe26258249dd9af7/boto3-1.16.6-py2.py3-none-any.whl\n",
      "Requirement already satisfied: jmespath<1.0.0,>=0.7.1 in /usr/local/lib/python3.7/site-packages (from boto3)\n",
      "Collecting botocore<1.20.0,>=1.19.6 (from boto3)\n",
      "  Using cached https://files.pythonhosted.org/packages/15/6c/f5b074e14823f250e0a73e53714c1ed80d689d530468936d35a9d336f1dd/botocore-1.19.6-py2.py3-none-any.whl\n",
      "Collecting s3transfer<0.4.0,>=0.3.0 (from boto3)\n",
      "  Using cached https://files.pythonhosted.org/packages/69/79/e6afb3d8b0b4e96cefbdc690f741d7dd24547ff1f94240c997a26fa908d3/s3transfer-0.3.3-py2.py3-none-any.whl\n",
      "Requirement already satisfied: urllib3<1.26,>=1.25.4; python_version != \"3.4\" in /usr/local/lib/python3.7/site-packages (from botocore<1.20.0,>=1.19.6->boto3)\n",
      "Collecting python-dateutil<3.0.0,>=2.1 (from botocore<1.20.0,>=1.19.6->boto3)\n",
      "  Using cached https://files.pythonhosted.org/packages/d4/70/d60450c3dd48ef87586924207ae8907090de0b306af2bce5d134d78615cb/python_dateutil-2.8.1-py2.py3-none-any.whl\n",
      "Requirement already satisfied: six>=1.5 in /usr/local/lib/python3.7/site-packages (from python-dateutil<3.0.0,>=2.1->botocore<1.20.0,>=1.19.6->boto3)\n",
      "Installing collected packages: python-dateutil, botocore, s3transfer, boto3\n",
      "Successfully installed boto3-1.16.6 botocore-1.19.6 python-dateutil-2.8.1 s3transfer-0.3.3\n",
      "\n",
      "Collecting pandas\n",
      "  Using cached https://files.pythonhosted.org/packages/25/47/22fc373440e144e2111363adaa07abb09ec1f03fbc071b6d9fc0bbf65f68/pandas-1.1.3-cp37-cp37m-manylinux1_x86_64.whl\n",
      "Requirement already satisfied: numpy>=1.15.4 in /usr/local/lib64/python3.7/site-packages (from pandas)\n",
      "Requirement already satisfied: pytz>=2017.2 in /usr/local/lib/python3.7/site-packages (from pandas)\n",
      "Requirement already satisfied: python-dateutil>=2.7.3 in /mnt/tmp/1603845332593-0/lib/python3.7/site-packages (from pandas)\n",
      "Requirement already satisfied: six>=1.5 in /usr/local/lib/python3.7/site-packages (from python-dateutil>=2.7.3->pandas)\n",
      "Installing collected packages: pandas\n",
      "Successfully installed pandas-1.1.3\n",
      "\n",
      "Requirement already satisfied: requests in /usr/local/lib/python3.7/site-packages\n",
      "Requirement already satisfied: chardet<4,>=3.0.2 in /usr/local/lib/python3.7/site-packages (from requests)\n",
      "Requirement already satisfied: idna<3,>=2.5 in /usr/local/lib/python3.7/site-packages (from requests)\n",
      "Requirement already satisfied: urllib3!=1.25.0,!=1.25.1,<1.26,>=1.21.1 in /usr/local/lib/python3.7/site-packages (from requests)\n",
      "Requirement already satisfied: certifi>=2017.4.17 in /usr/local/lib/python3.7/site-packages (from requests)\n",
      "\n",
      "Collecting s3fs\n",
      "  Using cached https://files.pythonhosted.org/packages/a7/58/732ea1c735d725b1cc4cf365ae6326c22569a5e88c8502d13844e91f08ef/s3fs-0.5.1-py3-none-any.whl\n",
      "Collecting aiobotocore>=1.0.1 (from s3fs)\n",
      "  Using cached https://files.pythonhosted.org/packages/73/25/a81b015035012131056a6b7a339eec052f86f33e35fd91f160e961ea2a5e/aiobotocore-1.1.2-py3-none-any.whl\n",
      "Collecting fsspec>=0.8.0 (from s3fs)\n",
      "  Using cached https://files.pythonhosted.org/packages/a5/8b/1df260f860f17cb08698170153ef7db672c497c1840dcc8613ce26a8a005/fsspec-0.8.4-py3-none-any.whl\n",
      "Collecting aioitertools>=0.5.1 (from aiobotocore>=1.0.1->s3fs)\n",
      "  Using cached https://files.pythonhosted.org/packages/83/42/90df27c516ce54fa26964bc4a632ecaf352c7e99574b515255e48b4a7cc7/aioitertools-0.7.0-py3-none-any.whl\n",
      "Collecting botocore<1.17.45,>=1.17.44 (from aiobotocore>=1.0.1->s3fs)\n",
      "  Using cached https://files.pythonhosted.org/packages/1e/6a/b6490235c01c941a24a86235e2a641e9505cf0ce4b4968d4987573d92bec/botocore-1.17.44-py2.py3-none-any.whl\n",
      "Collecting wrapt>=1.10.10 (from aiobotocore>=1.0.1->s3fs)\n",
      "Collecting aiohttp>=3.3.1 (from aiobotocore>=1.0.1->s3fs)\n",
      "Collecting typing_extensions>=3.7 (from aioitertools>=0.5.1->aiobotocore>=1.0.1->s3fs)\n",
      "  Using cached https://files.pythonhosted.org/packages/60/7a/e881b5abb54db0e6e671ab088d079c57ce54e8a01a3ca443f561ccadb37e/typing_extensions-3.7.4.3-py3-none-any.whl\n",
      "Requirement already satisfied: urllib3<1.26,>=1.20; python_version != \"3.4\" in /usr/local/lib/python3.7/site-packages (from botocore<1.17.45,>=1.17.44->aiobotocore>=1.0.1->s3fs)\n",
      "Requirement already satisfied: python-dateutil<3.0.0,>=2.1 in /mnt/tmp/1603845332593-0/lib/python3.7/site-packages (from botocore<1.17.45,>=1.17.44->aiobotocore>=1.0.1->s3fs)\n",
      "Requirement already satisfied: jmespath<1.0.0,>=0.7.1 in /usr/local/lib/python3.7/site-packages (from botocore<1.17.45,>=1.17.44->aiobotocore>=1.0.1->s3fs)\n",
      "Collecting docutils<0.16,>=0.10 (from botocore<1.17.45,>=1.17.44->aiobotocore>=1.0.1->s3fs)\n",
      "  Using cached https://files.pythonhosted.org/packages/22/cd/a6aa959dca619918ccb55023b4cb151949c64d4d5d55b3f4ffd7eee0c6e8/docutils-0.15.2-py3-none-any.whl\n",
      "Collecting yarl<2.0,>=1.0 (from aiohttp>=3.3.1->aiobotocore>=1.0.1->s3fs)\n",
      "Requirement already satisfied: chardet<4.0,>=2.0 in /usr/local/lib/python3.7/site-packages (from aiohttp>=3.3.1->aiobotocore>=1.0.1->s3fs)\n",
      "Collecting async-timeout<4.0,>=3.0 (from aiohttp>=3.3.1->aiobotocore>=1.0.1->s3fs)\n",
      "  Using cached https://files.pythonhosted.org/packages/e1/1e/5a4441be21b0726c4464f3f23c8b19628372f606755a9d2e46c187e65ec4/async_timeout-3.0.1-py3-none-any.whl\n",
      "Collecting multidict<7.0,>=4.5 (from aiohttp>=3.3.1->aiobotocore>=1.0.1->s3fs)\n",
      "Collecting attrs>=17.3.0 (from aiohttp>=3.3.1->aiobotocore>=1.0.1->s3fs)\n",
      "  Using cached https://files.pythonhosted.org/packages/14/df/479736ae1ef59842f512548bacefad1abed705e400212acba43f9b0fa556/attrs-20.2.0-py2.py3-none-any.whl\n",
      "Collecting idna-ssl>=1.0 (from aiohttp>=3.3.1->aiobotocore>=1.0.1->s3fs)\n",
      "Requirement already satisfied: six>=1.5 in /usr/local/lib/python3.7/site-packages (from python-dateutil<3.0.0,>=2.1->botocore<1.17.45,>=1.17.44->aiobotocore>=1.0.1->s3fs)\n",
      "Requirement already satisfied: idna>=2.0 in /usr/local/lib/python3.7/site-packages (from yarl<2.0,>=1.0->aiohttp>=3.3.1->aiobotocore>=1.0.1->s3fs)\n",
      "Installing collected packages: typing-extensions, aioitertools, docutils, botocore, wrapt, multidict, yarl, async-timeout, attrs, idna-ssl, aiohttp, aiobotocore, fsspec, s3fs\n",
      "  Found existing installation: botocore 1.19.6\n",
      "    Uninstalling botocore-1.19.6:\n",
      "      Successfully uninstalled botocore-1.19.6\n",
      "Successfully installed aiobotocore-1.1.2 aiohttp-3.7.2 aioitertools-0.7.0 async-timeout-3.0.1 attrs-20.2.0 botocore-1.17.44 docutils-0.15.2 fsspec-0.8.4 idna-ssl-1.1.0 multidict-5.0.0 s3fs-0.5.1 typing-extensions-3.7.4.3 wrapt-1.12.1 yarl-1.6.2"
     ]
    }
   ],
   "source": [
    "# Install libraries within the notebook scope\n",
    "sc.install_pypi_package(\"boto3\")\n",
    "sc.install_pypi_package(\"pandas\")\n",
    "sc.install_pypi_package(\"requests\")\n",
    "sc.install_pypi_package(\"s3fs\")"
   ]
  },
  {
   "cell_type": "code",
   "execution_count": 2,
   "metadata": {},
   "outputs": [
    {
     "data": {
      "application/vnd.jupyter.widget-view+json": {
       "model_id": "db7b310a6d124a98b16113f39c401dce",
       "version_major": 2,
       "version_minor": 0
      },
      "text/plain": [
       "VBox()"
      ]
     },
     "metadata": {},
     "output_type": "display_data"
    },
    {
     "data": {
      "application/vnd.jupyter.widget-view+json": {
       "model_id": "",
       "version_major": 2,
       "version_minor": 0
      },
      "text/plain": [
       "FloatProgress(value=0.0, bar_style='info', description='Progress:', layout=Layout(height='25px', width='50%'),…"
      ]
     },
     "metadata": {},
     "output_type": "display_data"
    }
   ],
   "source": [
    "import boto3\n",
    "from datetime import datetime\n",
    "from datetime import timedelta\n",
    "import pandas as pd\n",
    "from pyspark.sql.dataframe import DataFrame\n",
    "from pyspark.sql import functions as f, types as t, Window\n",
    "from pathlib import Path\n",
    "import requests\n",
    "import s3fs\n",
    "import subprocess\n",
    "import timeit\n",
    "from urllib.parse import urlparse\n",
    "\n",
    "# Removes truncation of columns, column values in Pandas\n",
    "# by default\n",
    "pd.set_option('max_columns', None)\n",
    "pd.set_option('max_colwidth', None)\n",
    "\n",
    "# Monkey patching the DataFrame transform method for spark 2.4\n",
    "def transform(self, f):\n",
    "    return f(self)\n",
    "DataFrame.transform = transform\n",
    "\n",
    "# Override the timeit template to return the command's\n",
    "# return value in addition to the time\n",
    "# Reference: https://stackoverflow.com/questions/24812253/how-can-i-capture-return-value-with-python-timeit-module\n",
    "timeit.template = \"\"\"\n",
    "def inner(_it, _timer{init}):\n",
    "    {setup}\n",
    "    _t0 = _timer()\n",
    "    for _i in _it:\n",
    "        retval = {stmt}\n",
    "    _t1 = _timer()\n",
    "    return _t1 - _t0, retval\n",
    "\"\"\"\n",
    "\n",
    "def shell_cmd(cmd):\n",
    "    for line in subprocess.check_output(cmd, shell=True).split(b'\\n'):\n",
    "        print(line)\n",
    "\n",
    "def timer_method(cmd):\n",
    "    # Setting globals = globals() enables the timeit function\n",
    "    # to return the value generated by cmd\n",
    "    return timeit.timeit(cmd, number=1, globals = globals())"
   ]
  },
  {
   "cell_type": "markdown",
   "metadata": {},
   "source": [
    "### Set your s3 bucket name\n",
    "This should be data-scale-oreilly-{your name}   \n",
    "If you dont remember check the [S3 console](https://s3.console.aws.amazon.com/)"
   ]
  },
  {
   "cell_type": "code",
   "execution_count": 3,
   "metadata": {},
   "outputs": [
    {
     "data": {
      "application/vnd.jupyter.widget-view+json": {
       "model_id": "da24b7f51d6443eeba0a7307747fce88",
       "version_major": 2,
       "version_minor": 0
      },
      "text/plain": [
       "VBox()"
      ]
     },
     "metadata": {},
     "output_type": "display_data"
    },
    {
     "data": {
      "application/vnd.jupyter.widget-view+json": {
       "model_id": "",
       "version_major": 2,
       "version_minor": 0
      },
      "text/plain": [
       "FloatProgress(value=0.0, bar_style='info', description='Progress:', layout=Layout(height='25px', width='50%'),…"
      ]
     },
     "metadata": {},
     "output_type": "display_data"
    }
   ],
   "source": [
    "MY_BUCKET_NAME = \"data-scale-oreilly\""
   ]
  },
  {
   "cell_type": "markdown",
   "metadata": {},
   "source": [
    "### Lab 3.1 - Leveraging File Types\n",
    "\n",
    "Write functions to:\n",
    "* Write out the taxi-lookup dataset to local storage as csv, json, and parquet files\n",
    "* Write a function to read the files and to print/return a dataframe containing the counts of zones per borough\n",
    "* Time how long it takes to write out the different file types and to perform the aggregation using each file type"
   ]
  },
  {
   "cell_type": "code",
   "execution_count": 9,
   "metadata": {},
   "outputs": [
    {
     "data": {
      "application/vnd.jupyter.widget-view+json": {
       "model_id": "cc246639c705461a97c753ede0a83742",
       "version_major": 2,
       "version_minor": 0
      },
      "text/plain": [
       "VBox()"
      ]
     },
     "metadata": {},
     "output_type": "display_data"
    },
    {
     "data": {
      "application/vnd.jupyter.widget-view+json": {
       "model_id": "",
       "version_major": 2,
       "version_minor": 0
      },
      "text/plain": [
       "FloatProgress(value=0.0, bar_style='info', description='Progress:', layout=Layout(height='25px', width='50%'),…"
      ]
     },
     "metadata": {},
     "output_type": "display_data"
    }
   ],
   "source": [
    "# These should point to the paths where the data from the taxi and taxi-lookup ingests were written\n",
    "taxiPath = \"hdfs:///tmp/data/nyc-taxi/taxi-data/output/section2/json/\"\n",
    "taxiLookupPath = \"hdfs:///tmp/data/nyc-taxi/zone-lookup/output/section2/json/\""
   ]
  },
  {
   "cell_type": "code",
   "execution_count": 5,
   "metadata": {},
   "outputs": [
    {
     "data": {
      "application/vnd.jupyter.widget-view+json": {
       "model_id": "308265de26f44f7cbceab3a29f1c4541",
       "version_major": 2,
       "version_minor": 0
      },
      "text/plain": [
       "VBox()"
      ]
     },
     "metadata": {},
     "output_type": "display_data"
    },
    {
     "data": {
      "application/vnd.jupyter.widget-view+json": {
       "model_id": "",
       "version_major": 2,
       "version_minor": 0
      },
      "text/plain": [
       "FloatProgress(value=0.0, bar_style='info', description='Progress:', layout=Layout(height='25px', width='50%'),…"
      ]
     },
     "metadata": {},
     "output_type": "display_data"
    }
   ],
   "source": [
    "# Spark 2.4.6 docs: https://spark.apache.org/docs/2.4.6/\n",
    "def write_csv(inputDF):\n",
    "    (inputDF\n",
    "        .write\n",
    "        .mode(\"overwrite\")\n",
    "        .option(\"header\", True)\n",
    "        .csv(\"hdfs:///tmp/data/nyc-taxi/taxi-zone/output/section3/csv\"))\n",
    "\n",
    "def write_json(inputDF):\n",
    "    (inputDF\n",
    "        .write\n",
    "        .mode(\"overwrite\")\n",
    "        .json(\"hdfs:///tmp/data/nyc-taxi/taxi-zone/output/section3/json\"))\n",
    "\n",
    "def write_parquet(inputDF):\n",
    "    (inputDF\n",
    "        .write\n",
    "        .mode(\"overwrite\")\n",
    "        .parquet(\"hdfs:///tmp/data/nyc-taxi/taxi-zone/output/section3/parquet\"))\n",
    "        \n",
    "def read_test_csv():\n",
    "    readDF = (spark\n",
    "                 .read\n",
    "                 .option('header', True).csv(\"hdfs:///tmp/data/nyc-taxi/taxi-zone/output/section3/csv\"))\n",
    "    readDF.show()\n",
    "    dfCount = readDF.groupBy(\"borough\").count()\n",
    "    print(dfCount)\n",
    "    return dfCount\n",
    "\n",
    "def read_test_json():\n",
    "    readDF = (spark\n",
    "                 .read\n",
    "                 .json(\"hdfs:///tmp/data/nyc-taxi/taxi-zone/output/section3/json\"))\n",
    "    readDF.show()\n",
    "    dfCount = readDF.groupBy(\"borough\").count()\n",
    "    print(dfCount)\n",
    "    return dfCount\n",
    "\n",
    "def read_test_parquet():\n",
    "    readDF = (spark\n",
    "                 .read\n",
    "                 .parquet(\"hdfs:///tmp/data/nyc-taxi/taxi-zone/output/section3/parquet\"))\n",
    "    readDF.show()\n",
    "    dfCount = readDF.groupBy(\"borough\").count()\n",
    "    print(dfCount)\n",
    "    return dfCount"
   ]
  },
  {
   "cell_type": "code",
   "execution_count": 6,
   "metadata": {},
   "outputs": [
    {
     "data": {
      "application/vnd.jupyter.widget-view+json": {
       "model_id": "fe158804783e4fd2a43b46e8a4ea72fc",
       "version_major": 2,
       "version_minor": 0
      },
      "text/plain": [
       "VBox()"
      ]
     },
     "metadata": {},
     "output_type": "display_data"
    },
    {
     "data": {
      "application/vnd.jupyter.widget-view+json": {
       "model_id": "",
       "version_major": 2,
       "version_minor": 0
      },
      "text/plain": [
       "FloatProgress(value=0.0, bar_style='info', description='Progress:', layout=Layout(height='25px', width='50%'),…"
      ]
     },
     "metadata": {},
     "output_type": "display_data"
    },
    {
     "name": "stdout",
     "output_type": "stream",
     "text": [
      "root\n",
      " |-- Borough: string (nullable = true)\n",
      " |-- LocationID: long (nullable = true)\n",
      " |-- Zone: string (nullable = true)\n",
      " |-- ingested_on: string (nullable = true)\n",
      " |-- service_zone: string (nullable = true)\n",
      "\n",
      "+-------------+----------+--------------------+-------------------+------------+\n",
      "|      Borough|LocationID|                Zone|        ingested_on|service_zone|\n",
      "+-------------+----------+--------------------+-------------------+------------+\n",
      "|          EWR|         1|      Newark Airport|2020-10-27 22:52:22|         EWR|\n",
      "|       Queens|         2|         Jamaica Bay|2020-10-27 22:52:22|   Boro Zone|\n",
      "|        Bronx|         3|Allerton/Pelham G...|2020-10-27 22:52:22|   Boro Zone|\n",
      "|    Manhattan|         4|       Alphabet City|2020-10-27 22:52:22| Yellow Zone|\n",
      "|Staten Island|         5|       Arden Heights|2020-10-27 22:52:22|   Boro Zone|\n",
      "|Staten Island|         6|Arrochar/Fort Wad...|2020-10-27 22:52:22|   Boro Zone|\n",
      "|       Queens|         7|             Astoria|2020-10-27 22:52:22|   Boro Zone|\n",
      "|       Queens|         8|        Astoria Park|2020-10-27 22:52:22|   Boro Zone|\n",
      "|       Queens|         9|          Auburndale|2020-10-27 22:52:22|   Boro Zone|\n",
      "|       Queens|        10|        Baisley Park|2020-10-27 22:52:22|   Boro Zone|\n",
      "|     Brooklyn|        11|          Bath Beach|2020-10-27 22:52:22|   Boro Zone|\n",
      "|    Manhattan|        12|        Battery Park|2020-10-27 22:52:22| Yellow Zone|\n",
      "|    Manhattan|        13|   Battery Park City|2020-10-27 22:52:22| Yellow Zone|\n",
      "|     Brooklyn|        14|           Bay Ridge|2020-10-27 22:52:22|   Boro Zone|\n",
      "|       Queens|        15|Bay Terrace/Fort ...|2020-10-27 22:52:22|   Boro Zone|\n",
      "|       Queens|        16|             Bayside|2020-10-27 22:52:22|   Boro Zone|\n",
      "|     Brooklyn|        17|             Bedford|2020-10-27 22:52:22|   Boro Zone|\n",
      "|        Bronx|        18|        Bedford Park|2020-10-27 22:52:22|   Boro Zone|\n",
      "|       Queens|        19|           Bellerose|2020-10-27 22:52:22|   Boro Zone|\n",
      "|        Bronx|        20|             Belmont|2020-10-27 22:52:22|   Boro Zone|\n",
      "+-------------+----------+--------------------+-------------------+------------+\n",
      "only showing top 20 rows\n",
      "\n",
      "CSV write time: (0.4216490009998779, None)\n",
      "JSON write time: (0.19682622900018032, None)\n",
      "Parquet write time: (0.7249585560002743, None)"
     ]
    }
   ],
   "source": [
    "inputDF = (spark\n",
    "              .read\n",
    "              .json(taxiLookupPath))\n",
    "inputDF.printSchema()\n",
    "inputDF.show()\n",
    "\n",
    "print(f'CSV write time: {timer_method(\"write_csv(inputDF)\")}')\n",
    "print(f'JSON write time: {timer_method(\"write_json(inputDF)\")}')\n",
    "print(f'Parquet write time: {timer_method(\"write_parquet(inputDF)\")}')"
   ]
  },
  {
   "cell_type": "code",
   "execution_count": 7,
   "metadata": {},
   "outputs": [
    {
     "data": {
      "application/vnd.jupyter.widget-view+json": {
       "model_id": "0761d6a59b8c4dd0b6ce701c74df343e",
       "version_major": 2,
       "version_minor": 0
      },
      "text/plain": [
       "VBox()"
      ]
     },
     "metadata": {},
     "output_type": "display_data"
    },
    {
     "data": {
      "application/vnd.jupyter.widget-view+json": {
       "model_id": "",
       "version_major": 2,
       "version_minor": 0
      },
      "text/plain": [
       "FloatProgress(value=0.0, bar_style='info', description='Progress:', layout=Layout(height='25px', width='50%'),…"
      ]
     },
     "metadata": {},
     "output_type": "display_data"
    },
    {
     "name": "stdout",
     "output_type": "stream",
     "text": [
      "+-------------+----------+--------------------+-------------------+------------+\n",
      "|      Borough|LocationID|                Zone|        ingested_on|service_zone|\n",
      "+-------------+----------+--------------------+-------------------+------------+\n",
      "|          EWR|         1|      Newark Airport|2020-10-27 22:52:22|         EWR|\n",
      "|       Queens|         2|         Jamaica Bay|2020-10-27 22:52:22|   Boro Zone|\n",
      "|        Bronx|         3|Allerton/Pelham G...|2020-10-27 22:52:22|   Boro Zone|\n",
      "|    Manhattan|         4|       Alphabet City|2020-10-27 22:52:22| Yellow Zone|\n",
      "|Staten Island|         5|       Arden Heights|2020-10-27 22:52:22|   Boro Zone|\n",
      "|Staten Island|         6|Arrochar/Fort Wad...|2020-10-27 22:52:22|   Boro Zone|\n",
      "|       Queens|         7|             Astoria|2020-10-27 22:52:22|   Boro Zone|\n",
      "|       Queens|         8|        Astoria Park|2020-10-27 22:52:22|   Boro Zone|\n",
      "|       Queens|         9|          Auburndale|2020-10-27 22:52:22|   Boro Zone|\n",
      "|       Queens|        10|        Baisley Park|2020-10-27 22:52:22|   Boro Zone|\n",
      "|     Brooklyn|        11|          Bath Beach|2020-10-27 22:52:22|   Boro Zone|\n",
      "|    Manhattan|        12|        Battery Park|2020-10-27 22:52:22| Yellow Zone|\n",
      "|    Manhattan|        13|   Battery Park City|2020-10-27 22:52:22| Yellow Zone|\n",
      "|     Brooklyn|        14|           Bay Ridge|2020-10-27 22:52:22|   Boro Zone|\n",
      "|       Queens|        15|Bay Terrace/Fort ...|2020-10-27 22:52:22|   Boro Zone|\n",
      "|       Queens|        16|             Bayside|2020-10-27 22:52:22|   Boro Zone|\n",
      "|     Brooklyn|        17|             Bedford|2020-10-27 22:52:22|   Boro Zone|\n",
      "|        Bronx|        18|        Bedford Park|2020-10-27 22:52:22|   Boro Zone|\n",
      "|       Queens|        19|           Bellerose|2020-10-27 22:52:22|   Boro Zone|\n",
      "|        Bronx|        20|             Belmont|2020-10-27 22:52:22|   Boro Zone|\n",
      "+-------------+----------+--------------------+-------------------+------------+\n",
      "only showing top 20 rows\n",
      "\n",
      "DataFrame[borough: string, count: bigint]\n",
      "CSV read and transform time: (0.5400402430000213, DataFrame[borough: string, count: bigint])\n",
      "+-------------+----------+--------------------+-------------------+------------+\n",
      "|      Borough|LocationID|                Zone|        ingested_on|service_zone|\n",
      "+-------------+----------+--------------------+-------------------+------------+\n",
      "|          EWR|         1|      Newark Airport|2020-10-27 22:52:22|         EWR|\n",
      "|       Queens|         2|         Jamaica Bay|2020-10-27 22:52:22|   Boro Zone|\n",
      "|        Bronx|         3|Allerton/Pelham G...|2020-10-27 22:52:22|   Boro Zone|\n",
      "|    Manhattan|         4|       Alphabet City|2020-10-27 22:52:22| Yellow Zone|\n",
      "|Staten Island|         5|       Arden Heights|2020-10-27 22:52:22|   Boro Zone|\n",
      "|Staten Island|         6|Arrochar/Fort Wad...|2020-10-27 22:52:22|   Boro Zone|\n",
      "|       Queens|         7|             Astoria|2020-10-27 22:52:22|   Boro Zone|\n",
      "|       Queens|         8|        Astoria Park|2020-10-27 22:52:22|   Boro Zone|\n",
      "|       Queens|         9|          Auburndale|2020-10-27 22:52:22|   Boro Zone|\n",
      "|       Queens|        10|        Baisley Park|2020-10-27 22:52:22|   Boro Zone|\n",
      "|     Brooklyn|        11|          Bath Beach|2020-10-27 22:52:22|   Boro Zone|\n",
      "|    Manhattan|        12|        Battery Park|2020-10-27 22:52:22| Yellow Zone|\n",
      "|    Manhattan|        13|   Battery Park City|2020-10-27 22:52:22| Yellow Zone|\n",
      "|     Brooklyn|        14|           Bay Ridge|2020-10-27 22:52:22|   Boro Zone|\n",
      "|       Queens|        15|Bay Terrace/Fort ...|2020-10-27 22:52:22|   Boro Zone|\n",
      "|       Queens|        16|             Bayside|2020-10-27 22:52:22|   Boro Zone|\n",
      "|     Brooklyn|        17|             Bedford|2020-10-27 22:52:22|   Boro Zone|\n",
      "|        Bronx|        18|        Bedford Park|2020-10-27 22:52:22|   Boro Zone|\n",
      "|       Queens|        19|           Bellerose|2020-10-27 22:52:22|   Boro Zone|\n",
      "|        Bronx|        20|             Belmont|2020-10-27 22:52:22|   Boro Zone|\n",
      "+-------------+----------+--------------------+-------------------+------------+\n",
      "only showing top 20 rows\n",
      "\n",
      "DataFrame[borough: string, count: bigint]\n",
      "JSON read and transform time: (0.20622276699987196, DataFrame[borough: string, count: bigint])\n",
      "+-------------+----------+--------------------+-------------------+------------+\n",
      "|      Borough|LocationID|                Zone|        ingested_on|service_zone|\n",
      "+-------------+----------+--------------------+-------------------+------------+\n",
      "|          EWR|         1|      Newark Airport|2020-10-27 22:52:22|         EWR|\n",
      "|       Queens|         2|         Jamaica Bay|2020-10-27 22:52:22|   Boro Zone|\n",
      "|        Bronx|         3|Allerton/Pelham G...|2020-10-27 22:52:22|   Boro Zone|\n",
      "|    Manhattan|         4|       Alphabet City|2020-10-27 22:52:22| Yellow Zone|\n",
      "|Staten Island|         5|       Arden Heights|2020-10-27 22:52:22|   Boro Zone|\n",
      "|Staten Island|         6|Arrochar/Fort Wad...|2020-10-27 22:52:22|   Boro Zone|\n",
      "|       Queens|         7|             Astoria|2020-10-27 22:52:22|   Boro Zone|\n",
      "|       Queens|         8|        Astoria Park|2020-10-27 22:52:22|   Boro Zone|\n",
      "|       Queens|         9|          Auburndale|2020-10-27 22:52:22|   Boro Zone|\n",
      "|       Queens|        10|        Baisley Park|2020-10-27 22:52:22|   Boro Zone|\n",
      "|     Brooklyn|        11|          Bath Beach|2020-10-27 22:52:22|   Boro Zone|\n",
      "|    Manhattan|        12|        Battery Park|2020-10-27 22:52:22| Yellow Zone|\n",
      "|    Manhattan|        13|   Battery Park City|2020-10-27 22:52:22| Yellow Zone|\n",
      "|     Brooklyn|        14|           Bay Ridge|2020-10-27 22:52:22|   Boro Zone|\n",
      "|       Queens|        15|Bay Terrace/Fort ...|2020-10-27 22:52:22|   Boro Zone|\n",
      "|       Queens|        16|             Bayside|2020-10-27 22:52:22|   Boro Zone|\n",
      "|     Brooklyn|        17|             Bedford|2020-10-27 22:52:22|   Boro Zone|\n",
      "|        Bronx|        18|        Bedford Park|2020-10-27 22:52:22|   Boro Zone|\n",
      "|       Queens|        19|           Bellerose|2020-10-27 22:52:22|   Boro Zone|\n",
      "|        Bronx|        20|             Belmont|2020-10-27 22:52:22|   Boro Zone|\n",
      "+-------------+----------+--------------------+-------------------+------------+\n",
      "only showing top 20 rows\n",
      "\n",
      "DataFrame[borough: string, count: bigint]\n",
      "Parquet read and transform time: (0.4118709470003523, DataFrame[borough: string, count: bigint])"
     ]
    }
   ],
   "source": [
    "print(f'CSV read and transform time: {timer_method(\"read_test_csv()\")}')\n",
    "print(f'JSON read and transform time: {timer_method(\"read_test_json()\")}')\n",
    "print(f'Parquet read and transform time: {timer_method(\"read_test_parquet()\")}')"
   ]
  },
  {
   "cell_type": "markdown",
   "metadata": {},
   "source": [
    "### Lab 3.2 Partitioning\n",
    "\n",
    "Write functions to:\n",
    "* Based on the class discussion , update the following functions with the most approrpiate partitioning values\n",
    "* Write a function to read the written files and to print/return a dataframe containing the counts of taxi rides per pickup_month\n",
    "* Time how long it takes to write out the data using the different partitioning methodologies and to perform the aggregation using strategy"
   ]
  },
  {
   "cell_type": "code",
   "execution_count": 14,
   "metadata": {},
   "outputs": [
    {
     "data": {
      "application/vnd.jupyter.widget-view+json": {
       "model_id": "b857b27fa73845ff87e54d7950866f41",
       "version_major": 2,
       "version_minor": 0
      },
      "text/plain": [
       "VBox()"
      ]
     },
     "metadata": {},
     "output_type": "display_data"
    },
    {
     "data": {
      "application/vnd.jupyter.widget-view+json": {
       "model_id": "",
       "version_major": 2,
       "version_minor": 0
      },
      "text/plain": [
       "FloatProgress(value=0.0, bar_style='info', description='Progress:', layout=Layout(height='25px', width='50%'),…"
      ]
     },
     "metadata": {},
     "output_type": "display_data"
    }
   ],
   "source": [
    "def write_paritioned_parquet(inputDF):\n",
    "    (inputDF\n",
    "        .write\n",
    "        .mode(\"overwrite\")\n",
    "        .partitionBy('pickup_month')\n",
    "        .parquet(\"hdfs:///tmp/data/nyc-taxi/taxi-data/output/section3/partitioned\"))\n",
    "            \n",
    "def write_coalesce_parquet(inputDF):\n",
    "    (inputDF\n",
    "        .coalesce(5)\n",
    "        .write     \n",
    "        .mode(\"overwrite\")\n",
    "        .partitionBy('pickup_month')\n",
    "        .parquet(\"hdfs:///tmp/data/nyc-taxi/taxi-data/output/section3/coalesced\"))\n",
    "            \n",
    "def write_repartition_parquet(inputDF):\n",
    "    (inputDF\n",
    "        .repartition(5)\n",
    "        .write\n",
    "        .mode(\"overwrite\")\n",
    "        .partitionBy('pickup_month')\n",
    "        .parquet(\"hdfs:///tmp/data/nyc-taxi/taxi-data/output/section3/repartitioned\"))\n",
    "            \n",
    "def write_sorted_parquet(inputDF): #RLE, need to verify that this still matters\n",
    "    (inputDF.orderBy('pickup_month','passenger_count', 'PULocationID', 'DOLocationID', 'trip_distance', 'fare_amount', 'tip_amount', 'dropoff_datetime', 'pickup_datetime')\n",
    "        .coalesce(5)     \n",
    "        .write\n",
    "        .mode(\"overwrite\")\n",
    "        .partitionBy('pickup_month')\n",
    "        .parquet(\"hdfs:///tmp/data/nyc-taxi/taxi-data/output/section3/sorted\"))\n",
    "\n",
    "# def write_parition(inputDF, partition):\n",
    "#     writeDF = inputDF.filter(f\"pickup_month == 'f{partition}'\")\n",
    "#     writeDF.show()\n",
    "#     (writeDF.orderBy('passenger_count', 'PULocationID', 'DOLocationID', 'trip_distance', 'fare_amount', 'tip_amount', 'dropoff_datetime', 'pickup_datetime')\n",
    "#         .repartition(5)\n",
    "#         .write\n",
    "#         .mode(\"overwrite\")\n",
    "#         .parquet(f\"hdfs:///tmp/data/nyc-taxi/taxi-data/output/section3/manual/pickup_month={parition}\"))\n",
    "\n",
    "# def write_pre_defined_partitions(inputDF):\n",
    "#     ##multiparll over list of partitions\n",
    "#     #need to verify if this is actually faster\n",
    "#     from multiprocessing import Process\n",
    "#     partitionList = [x[0] for x in inputDF.select(\"pickup_month\").distinct().collect()]\n",
    "#     print(parititionList)\n",
    "#     for partiion in partitionList:\n",
    "#         writeProcess = Process(target=write_parition, args=(inputDF, partiion))\n",
    "#         writeProcess.start()\n",
    "#         writeProcess.join()\n",
    "                \n",
    "#     spark.sql(\"MSCK RPAIR TABLE table_name\")\n",
    "#     spark.sql(\"REFRESH TABLE table_name\")\n",
    "\n",
    "def read_test_parquet(readPath):\n",
    "    readDF = (spark\n",
    "                 .read\n",
    "                 .parquet(readPath).sort(\"pickup_month\", \"passenger_count\"))\n",
    "    return readDF\n",
    "def agg_test_parquet(baseDF):\n",
    "    dfCount = baseDF.groupBy(\"pickup_month\").count()\n",
    "    print(dfCount)\n",
    "    return dfCount"
   ]
  },
  {
   "cell_type": "code",
   "execution_count": 15,
   "metadata": {},
   "outputs": [
    {
     "data": {
      "application/vnd.jupyter.widget-view+json": {
       "model_id": "2fe31e1521eb409493963aa8e4bd11bd",
       "version_major": 2,
       "version_minor": 0
      },
      "text/plain": [
       "VBox()"
      ]
     },
     "metadata": {},
     "output_type": "display_data"
    },
    {
     "data": {
      "application/vnd.jupyter.widget-view+json": {
       "model_id": "",
       "version_major": 2,
       "version_minor": 0
      },
      "text/plain": [
       "FloatProgress(value=0.0, bar_style='info', description='Progress:', layout=Layout(height='25px', width='50%'),…"
      ]
     },
     "metadata": {},
     "output_type": "display_data"
    },
    {
     "name": "stdout",
     "output_type": "stream",
     "text": [
      "+------------+------------+--------------------+-----------+-------------------+-----+---------------+--------------------+-------+----------+-------------+----+------------+\n",
      "|DOLocationID|PULocationID|    dropoff_datetime|fare_amount|        ingested_on|month|passenger_count|     pickup_datetime|service|tip_amount|trip_distance|year|pickup_month|\n",
      "+------------+------------+--------------------+-----------+-------------------+-----+---------------+--------------------+-------+----------+-------------+----+------------+\n",
      "|          90|         148|2020-01-01T01:02:...|       null|2020-10-27 22:50:37|   01|           null|2020-01-01T00:45:...|  fhvhv|      null|         null|2020|      202001|\n",
      "|          79|         114|2020-01-01T00:53:...|       null|2020-10-27 22:50:37|   01|           null|2020-01-01T00:47:...|  fhvhv|      null|         null|2020|      202001|\n",
      "|         125|           4|2020-01-01T00:21:...|       null|2020-10-27 22:50:37|   01|           null|2020-01-01T00:04:...|  fhvhv|      null|         null|2020|      202001|\n",
      "|         113|         231|2020-01-01T00:33:...|       null|2020-10-27 22:50:37|   01|           null|2020-01-01T00:26:...|  fhvhv|      null|         null|2020|      202001|\n",
      "|         144|         114|2020-01-01T00:46:...|       null|2020-10-27 22:50:37|   01|           null|2020-01-01T00:37:...|  fhvhv|      null|         null|2020|      202001|\n",
      "|         137|         144|2020-01-01T01:07:...|       null|2020-10-27 22:50:37|   01|           null|2020-01-01T00:49:...|  fhvhv|      null|         null|2020|      202001|\n",
      "|         148|         249|2020-01-01T00:36:...|       null|2020-10-27 22:50:37|   01|           null|2020-01-01T00:21:...|  fhvhv|      null|         null|2020|      202001|\n",
      "|           4|         148|2020-01-01T00:42:...|       null|2020-10-27 22:50:37|   01|           null|2020-01-01T00:38:...|  fhvhv|      null|         null|2020|      202001|\n",
      "|           7|          79|2020-01-01T01:09:...|       null|2020-10-27 22:50:37|   01|           null|2020-01-01T00:46:...|  fhvhv|      null|         null|2020|      202001|\n",
      "|         236|         140|2020-01-01T00:23:...|       null|2020-10-27 22:50:37|   01|           null|2020-01-01T00:15:...|  fhvhv|      null|         null|2020|      202001|\n",
      "|         149|          75|2020-01-01T01:13:...|       null|2020-10-27 22:50:37|   01|           null|2020-01-01T00:28:...|  fhvhv|      null|         null|2020|      202001|\n",
      "|         229|          33|2020-01-01T00:40:...|       null|2020-10-27 22:50:37|   01|           null|2020-01-01T00:14:...|  fhvhv|      null|         null|2020|      202001|\n",
      "|          74|         229|2020-01-01T00:59:...|       null|2020-10-27 22:50:37|   01|           null|2020-01-01T00:45:...|  fhvhv|      null|         null|2020|      202001|\n",
      "|         238|         114|2020-01-01T00:42:...|       null|2020-10-27 22:50:37|   01|           null|2020-01-01T00:16:...|  fhvhv|      null|         null|2020|      202001|\n",
      "|          89|          85|2020-01-01T00:45:...|       null|2020-10-27 22:50:37|   01|           null|2020-01-01T00:40:...|  fhvhv|      null|         null|2020|      202001|\n",
      "|         202|          61|2020-01-01T01:25:...|       null|2020-10-27 22:50:37|   01|           null|2020-01-01T00:55:...|  fhvhv|      null|         null|2020|      202001|\n",
      "|         265|         162|2020-01-01T01:18:...|       null|2020-10-27 22:50:37|   01|           null|2020-01-01T00:28:...|  fhvhv|      null|         null|2020|      202001|\n",
      "|          71|          71|2020-01-01T00:22:...|       null|2020-10-27 22:50:37|   01|           null|2020-01-01T00:20:...|  fhvhv|      null|         null|2020|      202001|\n",
      "|          35|          71|2020-01-01T00:35:...|       null|2020-10-27 22:50:37|   01|           null|2020-01-01T00:26:...|  fhvhv|      null|         null|2020|      202001|\n",
      "|          76|          61|2020-01-01T01:07:...|       null|2020-10-27 22:50:37|   01|           null|2020-01-01T00:45:...|  fhvhv|      null|         null|2020|      202001|\n",
      "+------------+------------+--------------------+-----------+-------------------+-----+---------------+--------------------+-------+----------+-------------+----+------------+\n",
      "only showing top 20 rows\n",
      "\n",
      "(96.00048633699953, None)"
     ]
    }
   ],
   "source": [
    "# Will talk through how to access the spark ui/view progress of the running code while this operation is running\n",
    "inputDF = (spark\n",
    "              .read\n",
    "              .json(taxiPath)\n",
    "              .withColumn(\"pickup_month\", f.date_format(\"pickup_datetime\", \"yyyyMM\")))\n",
    "inputDF.show()\n",
    "\n",
    "print(timer_method(\"write_paritioned_parquet(inputDF)\"))\n",
    "print(timer_method(\"write_coalesce_parquet(inputDF)\"))\n",
    "print(timer_method(\"write_repartition_parquet(inputDF)\"))\n",
    "print(timer_method(\"write_sorted_parquet(inputDF)\"))\n",
    "# print(timer_method(\"write_pre_defined_partitions(inputDF)\"))"
   ]
  },
  {
   "cell_type": "code",
   "execution_count": 20,
   "metadata": {},
   "outputs": [
    {
     "data": {
      "application/vnd.jupyter.widget-view+json": {
       "model_id": "69929f498d2b4d589018efa182537f4d",
       "version_major": 2,
       "version_minor": 0
      },
      "text/plain": [
       "VBox()"
      ]
     },
     "metadata": {},
     "output_type": "display_data"
    },
    {
     "data": {
      "application/vnd.jupyter.widget-view+json": {
       "model_id": "",
       "version_major": 2,
       "version_minor": 0
      },
      "text/plain": [
       "FloatProgress(value=0.0, bar_style='info', description='Progress:', layout=Layout(height='25px', width='50%'),…"
      ]
     },
     "metadata": {},
     "output_type": "display_data"
    },
    {
     "name": "stdout",
     "output_type": "stream",
     "text": [
      "(0.11948066100012511, DataFrame[DOLocationID: bigint, PULocationID: bigint, dropoff_datetime: string, fare_amount: double, ingested_on: string, month: string, passenger_count: bigint, pickup_datetime: string, service: string, tip_amount: double, trip_distance: double, year: string, pickup_month: int])\n",
      "DataFrame[pickup_month: int, count: bigint]\n",
      "(0.005141110000295157, DataFrame[pickup_month: int, count: bigint])\n",
      "(0.0666024069996638, DataFrame[DOLocationID: bigint, PULocationID: bigint, dropoff_datetime: string, fare_amount: double, ingested_on: string, month: string, passenger_count: bigint, pickup_datetime: string, service: string, tip_amount: double, trip_distance: double, year: string, pickup_month: int])\n",
      "DataFrame[pickup_month: int, count: bigint]\n",
      "(0.005951864999587997, DataFrame[pickup_month: int, count: bigint])\n",
      "(0.07020615599958546, DataFrame[DOLocationID: bigint, PULocationID: bigint, dropoff_datetime: string, fare_amount: double, ingested_on: string, month: string, passenger_count: bigint, pickup_datetime: string, service: string, tip_amount: double, trip_distance: double, year: string, pickup_month: int])\n",
      "DataFrame[pickup_month: int, count: bigint]\n",
      "(0.005581661000178428, DataFrame[pickup_month: int, count: bigint])\n",
      "(0.059924047000095015, DataFrame[DOLocationID: bigint, PULocationID: bigint, dropoff_datetime: string, fare_amount: double, ingested_on: string, month: string, passenger_count: bigint, pickup_datetime: string, service: string, tip_amount: double, trip_distance: double, year: string, pickup_month: int])\n",
      "DataFrame[pickup_month: int, count: bigint]\n",
      "(0.007693694000408868, DataFrame[pickup_month: int, count: bigint])"
     ]
    }
   ],
   "source": [
    "testPaths = [\n",
    "    'hdfs:///tmp/data/nyc-taxi/taxi-data/output/section3/partitioned',\n",
    "    'hdfs:///tmp/data/nyc-taxi/taxi-data/output/section3/coalesced',\n",
    "    'hdfs:///tmp/data/nyc-taxi/taxi-data/output/section3/repartitioned',\n",
    "    'hdfs:///tmp/data/nyc-taxi/taxi-data/output/section3/sorted',\n",
    "#     'hdfs:///tmp/data/nyc-taxi/taxi-data/output/section3/manual/'\n",
    "]\n",
    "\n",
    "for testPath in testPaths:\n",
    "    print(timer_method(f\"read_test_parquet('{testPath}')\"))\n",
    "    baseDF = read_test_parquet(testPath)\n",
    "    print(timer_method(\"agg_test_parquet(baseDF)\"))"
   ]
  },
  {
   "cell_type": "markdown",
   "metadata": {},
   "source": [
    "### Schema Management"
   ]
  },
  {
   "cell_type": "code",
   "execution_count": 21,
   "metadata": {},
   "outputs": [
    {
     "data": {
      "application/vnd.jupyter.widget-view+json": {
       "model_id": "b9f9d6acfe7240a5abea47af39b8144b",
       "version_major": 2,
       "version_minor": 0
      },
      "text/plain": [
       "VBox()"
      ]
     },
     "metadata": {},
     "output_type": "display_data"
    },
    {
     "data": {
      "application/vnd.jupyter.widget-view+json": {
       "model_id": "",
       "version_major": 2,
       "version_minor": 0
      },
      "text/plain": [
       "FloatProgress(value=0.0, bar_style='info', description='Progress:', layout=Layout(height='25px', width='50%'),…"
      ]
     },
     "metadata": {},
     "output_type": "display_data"
    },
    {
     "name": "stdout",
     "output_type": "stream",
     "text": [
      "29381039"
     ]
    }
   ],
   "source": [
    "# Normally want to leverage a respository\n",
    "# In scala you could apply the types to the dataframe to create a dataset. That is not possible in PySpark 2.4\n",
    "# Can leverage a SQL DDL or a spark structType. \n",
    "taxiSchema = inputDF.schema\n",
    "print(spark.read.schema(taxiSchema).parquet('hdfs:///tmp/data/nyc-taxi/taxi-data/output/section3/sorted').count())"
   ]
  },
  {
   "cell_type": "code",
   "execution_count": 20,
   "metadata": {},
   "outputs": [
    {
     "data": {
      "application/vnd.jupyter.widget-view+json": {
       "model_id": "7f02a26f616547308b9db7e105ef9683",
       "version_major": 2,
       "version_minor": 0
      },
      "text/plain": [
       "VBox()"
      ]
     },
     "metadata": {},
     "output_type": "display_data"
    },
    {
     "data": {
      "application/vnd.jupyter.widget-view+json": {
       "model_id": "",
       "version_major": 2,
       "version_minor": 0
      },
      "text/plain": [
       "FloatProgress(value=0.0, bar_style='info', description='Progress:', layout=Layout(height='25px', width='50%'),…"
      ]
     },
     "metadata": {},
     "output_type": "display_data"
    },
    {
     "name": "stderr",
     "output_type": "stream",
     "text": [
      "An error occurred while calling o2280.showString.\n",
      ": org.apache.spark.SparkException: Job aborted due to stage failure: Task 0 in stage 40.0 failed 4 times, most recent failure: Lost task 0.3 in stage 40.0 (TID 631, ip-172-31-7-171.ec2.internal, executor 14): org.apache.spark.api.python.PythonException: Traceback (most recent call last):\n",
      "  File \"/mnt1/yarn/usercache/livy/appcache/application_1603838352695_0006/container_1603838352695_0006_01_000018/pyspark.zip/pyspark/worker.py\", line 377, in main\n",
      "    process()\n",
      "  File \"/mnt1/yarn/usercache/livy/appcache/application_1603838352695_0006/container_1603838352695_0006_01_000018/pyspark.zip/pyspark/worker.py\", line 372, in process\n",
      "    serializer.dump_stream(func(split_index, iterator), outfile)\n",
      "  File \"/mnt1/yarn/usercache/livy/appcache/application_1603838352695_0006/container_1603838352695_0006_01_000018/pyspark.zip/pyspark/serializers.py\", line 400, in dump_stream\n",
      "    vs = list(itertools.islice(iterator, batch))\n",
      "  File \"/mnt1/yarn/usercache/livy/appcache/application_1603838352695_0006/container_1603838352695_0006_01_000018/pyspark.zip/pyspark/util.py\", line 113, in wrapper\n",
      "    return f(*args, **kwargs)\n",
      "  File \"/usr/lib/spark/python/lib/pyspark.zip/pyspark/sql/session.py\", line 730, in prepare\n",
      "  File \"/usr/lib/spark/python/lib/pyspark.zip/pyspark/sql/types.py\", line 1389, in verify\n",
      "  File \"/usr/lib/spark/python/lib/pyspark.zip/pyspark/sql/types.py\", line 1368, in verify_struct\n",
      "ValueError: Length of object (13) does not match with length of fields (12)\n",
      "\n",
      "\tat org.apache.spark.api.python.BasePythonRunner$ReaderIterator.handlePythonException(PythonRunner.scala:456)\n",
      "\tat org.apache.spark.api.python.PythonRunner$$anon$1.read(PythonRunner.scala:592)\n",
      "\tat org.apache.spark.api.python.PythonRunner$$anon$1.read(PythonRunner.scala:575)\n",
      "\tat org.apache.spark.api.python.BasePythonRunner$ReaderIterator.hasNext(PythonRunner.scala:410)\n",
      "\tat org.apache.spark.InterruptibleIterator.hasNext(InterruptibleIterator.scala:37)\n",
      "\tat scala.collection.Iterator$$anon$12.hasNext(Iterator.scala:440)\n",
      "\tat scala.collection.Iterator$$anon$11.hasNext(Iterator.scala:409)\n",
      "\tat scala.collection.Iterator$$anon$11.hasNext(Iterator.scala:409)\n",
      "\tat scala.collection.Iterator$$anon$11.hasNext(Iterator.scala:409)\n",
      "\tat org.apache.spark.sql.catalyst.expressions.GeneratedClass$GeneratedIteratorForCodegenStage1.processNext(Unknown Source)\n",
      "\tat org.apache.spark.sql.execution.BufferedRowIterator.hasNext(BufferedRowIterator.java:43)\n",
      "\tat org.apache.spark.sql.execution.WholeStageCodegenExec$$anonfun$13$$anon$1.hasNext(WholeStageCodegenExec.scala:585)\n",
      "\tat org.apache.spark.sql.execution.SparkPlan$$anonfun$2.apply(SparkPlan.scala:297)\n",
      "\tat org.apache.spark.sql.execution.SparkPlan$$anonfun$2.apply(SparkPlan.scala:289)\n",
      "\tat org.apache.spark.rdd.RDD$$anonfun$mapPartitionsInternal$1$$anonfun$apply$24.apply(RDD.scala:858)\n",
      "\tat org.apache.spark.rdd.RDD$$anonfun$mapPartitionsInternal$1$$anonfun$apply$24.apply(RDD.scala:858)\n",
      "\tat org.apache.spark.rdd.MapPartitionsRDD.compute(MapPartitionsRDD.scala:52)\n",
      "\tat org.apache.spark.rdd.RDD.computeOrReadCheckpoint(RDD.scala:346)\n",
      "\tat org.apache.spark.rdd.RDD.iterator(RDD.scala:310)\n",
      "\tat org.apache.spark.rdd.MapPartitionsRDD.compute(MapPartitionsRDD.scala:52)\n",
      "\tat org.apache.spark.rdd.RDD.computeOrReadCheckpoint(RDD.scala:346)\n",
      "\tat org.apache.spark.rdd.RDD.iterator(RDD.scala:310)\n",
      "\tat org.apache.spark.scheduler.ResultTask.runTask(ResultTask.scala:90)\n",
      "\tat org.apache.spark.scheduler.Task.run(Task.scala:123)\n",
      "\tat org.apache.spark.executor.Executor$TaskRunner$$anonfun$10.apply(Executor.scala:408)\n",
      "\tat org.apache.spark.util.Utils$.tryWithSafeFinally(Utils.scala:1405)\n",
      "\tat org.apache.spark.executor.Executor$TaskRunner.run(Executor.scala:414)\n",
      "\tat java.util.concurrent.ThreadPoolExecutor.runWorker(ThreadPoolExecutor.java:1149)\n",
      "\tat java.util.concurrent.ThreadPoolExecutor$Worker.run(ThreadPoolExecutor.java:624)\n",
      "\tat java.lang.Thread.run(Thread.java:748)\n",
      "\n",
      "Driver stacktrace:\n",
      "\tat org.apache.spark.scheduler.DAGScheduler.org$apache$spark$scheduler$DAGScheduler$$failJobAndIndependentStages(DAGScheduler.scala:2043)\n",
      "\tat org.apache.spark.scheduler.DAGScheduler$$anonfun$abortStage$1.apply(DAGScheduler.scala:2031)\n",
      "\tat org.apache.spark.scheduler.DAGScheduler$$anonfun$abortStage$1.apply(DAGScheduler.scala:2030)\n",
      "\tat scala.collection.mutable.ResizableArray$class.foreach(ResizableArray.scala:59)\n",
      "\tat scala.collection.mutable.ArrayBuffer.foreach(ArrayBuffer.scala:48)\n",
      "\tat org.apache.spark.scheduler.DAGScheduler.abortStage(DAGScheduler.scala:2030)\n",
      "\tat org.apache.spark.scheduler.DAGScheduler$$anonfun$handleTaskSetFailed$1.apply(DAGScheduler.scala:967)\n",
      "\tat org.apache.spark.scheduler.DAGScheduler$$anonfun$handleTaskSetFailed$1.apply(DAGScheduler.scala:967)\n",
      "\tat scala.Option.foreach(Option.scala:257)\n",
      "\tat org.apache.spark.scheduler.DAGScheduler.handleTaskSetFailed(DAGScheduler.scala:967)\n",
      "\tat org.apache.spark.scheduler.DAGSchedulerEventProcessLoop.doOnReceive(DAGScheduler.scala:2264)\n",
      "\tat org.apache.spark.scheduler.DAGSchedulerEventProcessLoop.onReceive(DAGScheduler.scala:2213)\n",
      "\tat org.apache.spark.scheduler.DAGSchedulerEventProcessLoop.onReceive(DAGScheduler.scala:2202)\n",
      "\tat org.apache.spark.util.EventLoop$$anon$1.run(EventLoop.scala:49)\n",
      "\tat org.apache.spark.scheduler.DAGScheduler.runJob(DAGScheduler.scala:778)\n",
      "\tat org.apache.spark.SparkContext.runJob(SparkContext.scala:2061)\n",
      "\tat org.apache.spark.SparkContext.runJob(SparkContext.scala:2082)\n",
      "\tat org.apache.spark.SparkContext.runJob(SparkContext.scala:2101)\n",
      "\tat org.apache.spark.sql.execution.SparkPlan.executeTake(SparkPlan.scala:407)\n",
      "\tat org.apache.spark.sql.execution.CollectLimitExec.executeCollect(limit.scala:38)\n",
      "\tat org.apache.spark.sql.Dataset.org$apache$spark$sql$Dataset$$collectFromPlan(Dataset.scala:3395)\n",
      "\tat org.apache.spark.sql.Dataset$$anonfun$head$1.apply(Dataset.scala:2552)\n",
      "\tat org.apache.spark.sql.Dataset$$anonfun$head$1.apply(Dataset.scala:2552)\n",
      "\tat org.apache.spark.sql.Dataset$$anonfun$52.apply(Dataset.scala:3370)\n",
      "\tat org.apache.spark.sql.execution.SQLExecution$.org$apache$spark$sql$execution$SQLExecution$$executeQuery$1(SQLExecution.scala:83)\n",
      "\tat org.apache.spark.sql.execution.SQLExecution$$anonfun$withNewExecutionId$1$$anonfun$apply$1.apply(SQLExecution.scala:94)\n",
      "\tat org.apache.spark.sql.execution.QueryExecutionMetrics$.withMetrics(QueryExecutionMetrics.scala:141)\n",
      "\tat org.apache.spark.sql.execution.SQLExecution$.org$apache$spark$sql$execution$SQLExecution$$withMetrics(SQLExecution.scala:178)\n",
      "\tat org.apache.spark.sql.execution.SQLExecution$$anonfun$withNewExecutionId$1.apply(SQLExecution.scala:93)\n",
      "\tat org.apache.spark.sql.execution.SQLExecution$.withSQLConfPropagated(SQLExecution.scala:200)\n",
      "\tat org.apache.spark.sql.execution.SQLExecution$.withNewExecutionId(SQLExecution.scala:92)\n",
      "\tat org.apache.spark.sql.Dataset.withAction(Dataset.scala:3369)\n",
      "\tat org.apache.spark.sql.Dataset.head(Dataset.scala:2552)\n",
      "\tat org.apache.spark.sql.Dataset.take(Dataset.scala:2766)\n",
      "\tat org.apache.spark.sql.Dataset.getRows(Dataset.scala:255)\n",
      "\tat org.apache.spark.sql.Dataset.showString(Dataset.scala:292)\n",
      "\tat sun.reflect.NativeMethodAccessorImpl.invoke0(Native Method)\n",
      "\tat sun.reflect.NativeMethodAccessorImpl.invoke(NativeMethodAccessorImpl.java:62)\n",
      "\tat sun.reflect.DelegatingMethodAccessorImpl.invoke(DelegatingMethodAccessorImpl.java:43)\n",
      "\tat java.lang.reflect.Method.invoke(Method.java:498)\n",
      "\tat py4j.reflection.MethodInvoker.invoke(MethodInvoker.java:244)\n",
      "\tat py4j.reflection.ReflectionEngine.invoke(ReflectionEngine.java:357)\n",
      "\tat py4j.Gateway.invoke(Gateway.java:282)\n",
      "\tat py4j.commands.AbstractCommand.invokeMethod(AbstractCommand.java:132)\n",
      "\tat py4j.commands.CallCommand.execute(CallCommand.java:79)\n",
      "\tat py4j.GatewayConnection.run(GatewayConnection.java:238)\n",
      "\tat java.lang.Thread.run(Thread.java:748)\n",
      "Caused by: org.apache.spark.api.python.PythonException: Traceback (most recent call last):\n",
      "  File \"/mnt1/yarn/usercache/livy/appcache/application_1603838352695_0006/container_1603838352695_0006_01_000018/pyspark.zip/pyspark/worker.py\", line 377, in main\n",
      "    process()\n",
      "  File \"/mnt1/yarn/usercache/livy/appcache/application_1603838352695_0006/container_1603838352695_0006_01_000018/pyspark.zip/pyspark/worker.py\", line 372, in process\n",
      "    serializer.dump_stream(func(split_index, iterator), outfile)\n",
      "  File \"/mnt1/yarn/usercache/livy/appcache/application_1603838352695_0006/container_1603838352695_0006_01_000018/pyspark.zip/pyspark/serializers.py\", line 400, in dump_stream\n",
      "    vs = list(itertools.islice(iterator, batch))\n",
      "  File \"/mnt1/yarn/usercache/livy/appcache/application_1603838352695_0006/container_1603838352695_0006_01_000018/pyspark.zip/pyspark/util.py\", line 113, in wrapper\n",
      "    return f(*args, **kwargs)\n",
      "  File \"/usr/lib/spark/python/lib/pyspark.zip/pyspark/sql/session.py\", line 730, in prepare\n",
      "  File \"/usr/lib/spark/python/lib/pyspark.zip/pyspark/sql/types.py\", line 1389, in verify\n",
      "  File \"/usr/lib/spark/python/lib/pyspark.zip/pyspark/sql/types.py\", line 1368, in verify_struct\n",
      "ValueError: Length of object (13) does not match with length of fields (12)\n",
      "\n",
      "\tat org.apache.spark.api.python.BasePythonRunner$ReaderIterator.handlePythonException(PythonRunner.scala:456)\n",
      "\tat org.apache.spark.api.python.PythonRunner$$anon$1.read(PythonRunner.scala:592)\n",
      "\tat org.apache.spark.api.python.PythonRunner$$anon$1.read(PythonRunner.scala:575)\n",
      "\tat org.apache.spark.api.python.BasePythonRunner$ReaderIterator.hasNext(PythonRunner.scala:410)\n",
      "\tat org.apache.spark.InterruptibleIterator.hasNext(InterruptibleIterator.scala:37)\n",
      "\tat scala.collection.Iterator$$anon$12.hasNext(Iterator.scala:440)\n",
      "\tat scala.collection.Iterator$$anon$11.hasNext(Iterator.scala:409)\n",
      "\tat scala.collection.Iterator$$anon$11.hasNext(Iterator.scala:409)\n",
      "\tat scala.collection.Iterator$$anon$11.hasNext(Iterator.scala:409)\n",
      "\tat org.apache.spark.sql.catalyst.expressions.GeneratedClass$GeneratedIteratorForCodegenStage1.processNext(Unknown Source)\n",
      "\tat org.apache.spark.sql.execution.BufferedRowIterator.hasNext(BufferedRowIterator.java:43)\n",
      "\tat org.apache.spark.sql.execution.WholeStageCodegenExec$$anonfun$13$$anon$1.hasNext(WholeStageCodegenExec.scala:585)\n",
      "\tat org.apache.spark.sql.execution.SparkPlan$$anonfun$2.apply(SparkPlan.scala:297)\n",
      "\tat org.apache.spark.sql.execution.SparkPlan$$anonfun$2.apply(SparkPlan.scala:289)\n",
      "\tat org.apache.spark.rdd.RDD$$anonfun$mapPartitionsInternal$1$$anonfun$apply$24.apply(RDD.scala:858)\n",
      "\tat org.apache.spark.rdd.RDD$$anonfun$mapPartitionsInternal$1$$anonfun$apply$24.apply(RDD.scala:858)\n",
      "\tat org.apache.spark.rdd.MapPartitionsRDD.compute(MapPartitionsRDD.scala:52)\n",
      "\tat org.apache.spark.rdd.RDD.computeOrReadCheckpoint(RDD.scala:346)\n",
      "\tat org.apache.spark.rdd.RDD.iterator(RDD.scala:310)\n",
      "\tat org.apache.spark.rdd.MapPartitionsRDD.compute(MapPartitionsRDD.scala:52)\n",
      "\tat org.apache.spark.rdd.RDD.computeOrReadCheckpoint(RDD.scala:346)\n",
      "\tat org.apache.spark.rdd.RDD.iterator(RDD.scala:310)\n",
      "\tat org.apache.spark.scheduler.ResultTask.runTask(ResultTask.scala:90)\n",
      "\tat org.apache.spark.scheduler.Task.run(Task.scala:123)\n",
      "\tat org.apache.spark.executor.Executor$TaskRunner$$anonfun$10.apply(Executor.scala:408)\n",
      "\tat org.apache.spark.util.Utils$.tryWithSafeFinally(Utils.scala:1405)\n",
      "\tat org.apache.spark.executor.Executor$TaskRunner.run(Executor.scala:414)\n",
      "\tat java.util.concurrent.ThreadPoolExecutor.runWorker(ThreadPoolExecutor.java:1149)\n",
      "\tat java.util.concurrent.ThreadPoolExecutor$Worker.run(ThreadPoolExecutor.java:624)\n",
      "\t... 1 more\n",
      "\n",
      "Traceback (most recent call last):\n",
      "  File \"/usr/lib/spark/python/lib/pyspark.zip/pyspark/sql/dataframe.py\", line 381, in show\n",
      "    print(self._jdf.showString(n, 20, vertical))\n",
      "  File \"/usr/lib/spark/python/lib/py4j-0.10.7-src.zip/py4j/java_gateway.py\", line 1257, in __call__\n",
      "    answer, self.gateway_client, self.target_id, self.name)\n",
      "  File \"/usr/lib/spark/python/lib/pyspark.zip/pyspark/sql/utils.py\", line 63, in deco\n",
      "    return f(*a, **kw)\n",
      "  File \"/usr/lib/spark/python/lib/py4j-0.10.7-src.zip/py4j/protocol.py\", line 328, in get_return_value\n",
      "    format(target_id, \".\", name), value)\n",
      "py4j.protocol.Py4JJavaError: An error occurred while calling o2280.showString.\n",
      ": org.apache.spark.SparkException: Job aborted due to stage failure: Task 0 in stage 40.0 failed 4 times, most recent failure: Lost task 0.3 in stage 40.0 (TID 631, ip-172-31-7-171.ec2.internal, executor 14): org.apache.spark.api.python.PythonException: Traceback (most recent call last):\n",
      "  File \"/mnt1/yarn/usercache/livy/appcache/application_1603838352695_0006/container_1603838352695_0006_01_000018/pyspark.zip/pyspark/worker.py\", line 377, in main\n",
      "    process()\n",
      "  File \"/mnt1/yarn/usercache/livy/appcache/application_1603838352695_0006/container_1603838352695_0006_01_000018/pyspark.zip/pyspark/worker.py\", line 372, in process\n",
      "    serializer.dump_stream(func(split_index, iterator), outfile)\n",
      "  File \"/mnt1/yarn/usercache/livy/appcache/application_1603838352695_0006/container_1603838352695_0006_01_000018/pyspark.zip/pyspark/serializers.py\", line 400, in dump_stream\n",
      "    vs = list(itertools.islice(iterator, batch))\n",
      "  File \"/mnt1/yarn/usercache/livy/appcache/application_1603838352695_0006/container_1603838352695_0006_01_000018/pyspark.zip/pyspark/util.py\", line 113, in wrapper\n",
      "    return f(*args, **kwargs)\n",
      "  File \"/usr/lib/spark/python/lib/pyspark.zip/pyspark/sql/session.py\", line 730, in prepare\n",
      "  File \"/usr/lib/spark/python/lib/pyspark.zip/pyspark/sql/types.py\", line 1389, in verify\n",
      "  File \"/usr/lib/spark/python/lib/pyspark.zip/pyspark/sql/types.py\", line 1368, in verify_struct\n",
      "ValueError: Length of object (13) does not match with length of fields (12)\n",
      "\n",
      "\tat org.apache.spark.api.python.BasePythonRunner$ReaderIterator.handlePythonException(PythonRunner.scala:456)\n",
      "\tat org.apache.spark.api.python.PythonRunner$$anon$1.read(PythonRunner.scala:592)\n",
      "\tat org.apache.spark.api.python.PythonRunner$$anon$1.read(PythonRunner.scala:575)\n",
      "\tat org.apache.spark.api.python.BasePythonRunner$ReaderIterator.hasNext(PythonRunner.scala:410)\n",
      "\tat org.apache.spark.InterruptibleIterator.hasNext(InterruptibleIterator.scala:37)\n",
      "\tat scala.collection.Iterator$$anon$12.hasNext(Iterator.scala:440)\n",
      "\tat scala.collection.Iterator$$anon$11.hasNext(Iterator.scala:409)\n",
      "\tat scala.collection.Iterator$$anon$11.hasNext(Iterator.scala:409)\n",
      "\tat scala.collection.Iterator$$anon$11.hasNext(Iterator.scala:409)\n",
      "\tat org.apache.spark.sql.catalyst.expressions.GeneratedClass$GeneratedIteratorForCodegenStage1.processNext(Unknown Source)\n",
      "\tat org.apache.spark.sql.execution.BufferedRowIterator.hasNext(BufferedRowIterator.java:43)\n",
      "\tat org.apache.spark.sql.execution.WholeStageCodegenExec$$anonfun$13$$anon$1.hasNext(WholeStageCodegenExec.scala:585)\n",
      "\tat org.apache.spark.sql.execution.SparkPlan$$anonfun$2.apply(SparkPlan.scala:297)\n",
      "\tat org.apache.spark.sql.execution.SparkPlan$$anonfun$2.apply(SparkPlan.scala:289)\n",
      "\tat org.apache.spark.rdd.RDD$$anonfun$mapPartitionsInternal$1$$anonfun$apply$24.apply(RDD.scala:858)\n",
      "\tat org.apache.spark.rdd.RDD$$anonfun$mapPartitionsInternal$1$$anonfun$apply$24.apply(RDD.scala:858)\n",
      "\tat org.apache.spark.rdd.MapPartitionsRDD.compute(MapPartitionsRDD.scala:52)\n",
      "\tat org.apache.spark.rdd.RDD.computeOrReadCheckpoint(RDD.scala:346)\n",
      "\tat org.apache.spark.rdd.RDD.iterator(RDD.scala:310)\n",
      "\tat org.apache.spark.rdd.MapPartitionsRDD.compute(MapPartitionsRDD.scala:52)\n",
      "\tat org.apache.spark.rdd.RDD.computeOrReadCheckpoint(RDD.scala:346)\n",
      "\tat org.apache.spark.rdd.RDD.iterator(RDD.scala:310)\n",
      "\tat org.apache.spark.scheduler.ResultTask.runTask(ResultTask.scala:90)\n",
      "\tat org.apache.spark.scheduler.Task.run(Task.scala:123)\n",
      "\tat org.apache.spark.executor.Executor$TaskRunner$$anonfun$10.apply(Executor.scala:408)\n",
      "\tat org.apache.spark.util.Utils$.tryWithSafeFinally(Utils.scala:1405)\n",
      "\tat org.apache.spark.executor.Executor$TaskRunner.run(Executor.scala:414)\n",
      "\tat java.util.concurrent.ThreadPoolExecutor.runWorker(ThreadPoolExecutor.java:1149)\n",
      "\tat java.util.concurrent.ThreadPoolExecutor$Worker.run(ThreadPoolExecutor.java:624)\n",
      "\tat java.lang.Thread.run(Thread.java:748)\n",
      "\n",
      "Driver stacktrace:\n",
      "\tat org.apache.spark.scheduler.DAGScheduler.org$apache$spark$scheduler$DAGScheduler$$failJobAndIndependentStages(DAGScheduler.scala:2043)\n",
      "\tat org.apache.spark.scheduler.DAGScheduler$$anonfun$abortStage$1.apply(DAGScheduler.scala:2031)\n",
      "\tat org.apache.spark.scheduler.DAGScheduler$$anonfun$abortStage$1.apply(DAGScheduler.scala:2030)\n",
      "\tat scala.collection.mutable.ResizableArray$class.foreach(ResizableArray.scala:59)\n",
      "\tat scala.collection.mutable.ArrayBuffer.foreach(ArrayBuffer.scala:48)\n",
      "\tat org.apache.spark.scheduler.DAGScheduler.abortStage(DAGScheduler.scala:2030)\n",
      "\tat org.apache.spark.scheduler.DAGScheduler$$anonfun$handleTaskSetFailed$1.apply(DAGScheduler.scala:967)\n",
      "\tat org.apache.spark.scheduler.DAGScheduler$$anonfun$handleTaskSetFailed$1.apply(DAGScheduler.scala:967)\n",
      "\tat scala.Option.foreach(Option.scala:257)\n",
      "\tat org.apache.spark.scheduler.DAGScheduler.handleTaskSetFailed(DAGScheduler.scala:967)\n",
      "\tat org.apache.spark.scheduler.DAGSchedulerEventProcessLoop.doOnReceive(DAGScheduler.scala:2264)\n",
      "\tat org.apache.spark.scheduler.DAGSchedulerEventProcessLoop.onReceive(DAGScheduler.scala:2213)\n",
      "\tat org.apache.spark.scheduler.DAGSchedulerEventProcessLoop.onReceive(DAGScheduler.scala:2202)\n",
      "\tat org.apache.spark.util.EventLoop$$anon$1.run(EventLoop.scala:49)\n",
      "\tat org.apache.spark.scheduler.DAGScheduler.runJob(DAGScheduler.scala:778)\n",
      "\tat org.apache.spark.SparkContext.runJob(SparkContext.scala:2061)\n",
      "\tat org.apache.spark.SparkContext.runJob(SparkContext.scala:2082)\n",
      "\tat org.apache.spark.SparkContext.runJob(SparkContext.scala:2101)\n",
      "\tat org.apache.spark.sql.execution.SparkPlan.executeTake(SparkPlan.scala:407)\n",
      "\tat org.apache.spark.sql.execution.CollectLimitExec.executeCollect(limit.scala:38)\n",
      "\tat org.apache.spark.sql.Dataset.org$apache$spark$sql$Dataset$$collectFromPlan(Dataset.scala:3395)\n",
      "\tat org.apache.spark.sql.Dataset$$anonfun$head$1.apply(Dataset.scala:2552)\n",
      "\tat org.apache.spark.sql.Dataset$$anonfun$head$1.apply(Dataset.scala:2552)\n",
      "\tat org.apache.spark.sql.Dataset$$anonfun$52.apply(Dataset.scala:3370)\n",
      "\tat org.apache.spark.sql.execution.SQLExecution$.org$apache$spark$sql$execution$SQLExecution$$executeQuery$1(SQLExecution.scala:83)\n",
      "\tat org.apache.spark.sql.execution.SQLExecution$$anonfun$withNewExecutionId$1$$anonfun$apply$1.apply(SQLExecution.scala:94)\n",
      "\tat org.apache.spark.sql.execution.QueryExecutionMetrics$.withMetrics(QueryExecutionMetrics.scala:141)\n",
      "\tat org.apache.spark.sql.execution.SQLExecution$.org$apache$spark$sql$execution$SQLExecution$$withMetrics(SQLExecution.scala:178)\n",
      "\tat org.apache.spark.sql.execution.SQLExecution$$anonfun$withNewExecutionId$1.apply(SQLExecution.scala:93)\n",
      "\tat org.apache.spark.sql.execution.SQLExecution$.withSQLConfPropagated(SQLExecution.scala:200)\n",
      "\tat org.apache.spark.sql.execution.SQLExecution$.withNewExecutionId(SQLExecution.scala:92)\n",
      "\tat org.apache.spark.sql.Dataset.withAction(Dataset.scala:3369)\n",
      "\tat org.apache.spark.sql.Dataset.head(Dataset.scala:2552)\n",
      "\tat org.apache.spark.sql.Dataset.take(Dataset.scala:2766)\n",
      "\tat org.apache.spark.sql.Dataset.getRows(Dataset.scala:255)\n",
      "\tat org.apache.spark.sql.Dataset.showString(Dataset.scala:292)\n",
      "\tat sun.reflect.NativeMethodAccessorImpl.invoke0(Native Method)\n",
      "\tat sun.reflect.NativeMethodAccessorImpl.invoke(NativeMethodAccessorImpl.java:62)\n",
      "\tat sun.reflect.DelegatingMethodAccessorImpl.invoke(DelegatingMethodAccessorImpl.java:43)\n",
      "\tat java.lang.reflect.Method.invoke(Method.java:498)\n",
      "\tat py4j.reflection.MethodInvoker.invoke(MethodInvoker.java:244)\n",
      "\tat py4j.reflection.ReflectionEngine.invoke(ReflectionEngine.java:357)\n",
      "\tat py4j.Gateway.invoke(Gateway.java:282)\n",
      "\tat py4j.commands.AbstractCommand.invokeMethod(AbstractCommand.java:132)\n",
      "\tat py4j.commands.CallCommand.execute(CallCommand.java:79)\n",
      "\tat py4j.GatewayConnection.run(GatewayConnection.java:238)\n",
      "\tat java.lang.Thread.run(Thread.java:748)\n",
      "Caused by: org.apache.spark.api.python.PythonException: Traceback (most recent call last):\n",
      "  File \"/mnt1/yarn/usercache/livy/appcache/application_1603838352695_0006/container_1603838352695_0006_01_000018/pyspark.zip/pyspark/worker.py\", line 377, in main\n",
      "    process()\n",
      "  File \"/mnt1/yarn/usercache/livy/appcache/application_1603838352695_0006/container_1603838352695_0006_01_000018/pyspark.zip/pyspark/worker.py\", line 372, in process\n",
      "    serializer.dump_stream(func(split_index, iterator), outfile)\n",
      "  File \"/mnt1/yarn/usercache/livy/appcache/application_1603838352695_0006/container_1603838352695_0006_01_000018/pyspark.zip/pyspark/serializers.py\", line 400, in dump_stream\n",
      "    vs = list(itertools.islice(iterator, batch))\n",
      "  File \"/mnt1/yarn/usercache/livy/appcache/application_1603838352695_0006/container_1603838352695_0006_01_000018/pyspark.zip/pyspark/util.py\", line 113, in wrapper\n",
      "    return f(*args, **kwargs)\n",
      "  File \"/usr/lib/spark/python/lib/pyspark.zip/pyspark/sql/session.py\", line 730, in prepare\n",
      "  File \"/usr/lib/spark/python/lib/pyspark.zip/pyspark/sql/types.py\", line 1389, in verify\n",
      "  File \"/usr/lib/spark/python/lib/pyspark.zip/pyspark/sql/types.py\", line 1368, in verify_struct\n",
      "ValueError: Length of object (13) does not match with length of fields (12)\n",
      "\n",
      "\tat org.apache.spark.api.python.BasePythonRunner$ReaderIterator.handlePythonException(PythonRunner.scala:456)\n",
      "\tat org.apache.spark.api.python.PythonRunner$$anon$1.read(PythonRunner.scala:592)\n",
      "\tat org.apache.spark.api.python.PythonRunner$$anon$1.read(PythonRunner.scala:575)\n",
      "\tat org.apache.spark.api.python.BasePythonRunner$ReaderIterator.hasNext(PythonRunner.scala:410)\n",
      "\tat org.apache.spark.InterruptibleIterator.hasNext(InterruptibleIterator.scala:37)\n",
      "\tat scala.collection.Iterator$$anon$12.hasNext(Iterator.scala:440)\n",
      "\tat scala.collection.Iterator$$anon$11.hasNext(Iterator.scala:409)\n",
      "\tat scala.collection.Iterator$$anon$11.hasNext(Iterator.scala:409)\n",
      "\tat scala.collection.Iterator$$anon$11.hasNext(Iterator.scala:409)\n",
      "\tat org.apache.spark.sql.catalyst.expressions.GeneratedClass$GeneratedIteratorForCodegenStage1.processNext(Unknown Source)\n",
      "\tat org.apache.spark.sql.execution.BufferedRowIterator.hasNext(BufferedRowIterator.java:43)\n",
      "\tat org.apache.spark.sql.execution.WholeStageCodegenExec$$anonfun$13$$anon$1.hasNext(WholeStageCodegenExec.scala:585)\n",
      "\tat org.apache.spark.sql.execution.SparkPlan$$anonfun$2.apply(SparkPlan.scala:297)\n",
      "\tat org.apache.spark.sql.execution.SparkPlan$$anonfun$2.apply(SparkPlan.scala:289)\n",
      "\tat org.apache.spark.rdd.RDD$$anonfun$mapPartitionsInternal$1$$anonfun$apply$24.apply(RDD.scala:858)\n",
      "\tat org.apache.spark.rdd.RDD$$anonfun$mapPartitionsInternal$1$$anonfun$apply$24.apply(RDD.scala:858)\n",
      "\tat org.apache.spark.rdd.MapPartitionsRDD.compute(MapPartitionsRDD.scala:52)\n",
      "\tat org.apache.spark.rdd.RDD.computeOrReadCheckpoint(RDD.scala:346)\n",
      "\tat org.apache.spark.rdd.RDD.iterator(RDD.scala:310)\n",
      "\tat org.apache.spark.rdd.MapPartitionsRDD.compute(MapPartitionsRDD.scala:52)\n",
      "\tat org.apache.spark.rdd.RDD.computeOrReadCheckpoint(RDD.scala:346)\n",
      "\tat org.apache.spark.rdd.RDD.iterator(RDD.scala:310)\n",
      "\tat org.apache.spark.scheduler.ResultTask.runTask(ResultTask.scala:90)\n",
      "\tat org.apache.spark.scheduler.Task.run(Task.scala:123)\n",
      "\tat org.apache.spark.executor.Executor$TaskRunner$$anonfun$10.apply(Executor.scala:408)\n",
      "\tat org.apache.spark.util.Utils$.tryWithSafeFinally(Utils.scala:1405)\n",
      "\tat org.apache.spark.executor.Executor$TaskRunner.run(Executor.scala:414)\n",
      "\tat java.util.concurrent.ThreadPoolExecutor.runWorker(ThreadPoolExecutor.java:1149)\n",
      "\tat java.util.concurrent.ThreadPoolExecutor$Worker.run(ThreadPoolExecutor.java:624)\n",
      "\t... 1 more\n",
      "\n",
      "\n"
     ]
    }
   ],
   "source": [
    "taxiSchema = t.StructType([ \\\n",
    "    t.StructField('DOLocationID',t.LongType(),True), \\\n",
    "    t.StructField('PULocationID',t.LongType(),True), \\\n",
    "    t.StructField('dropoff_datetime',t.StringType(),True), \\\n",
    "    t.StructField('fare_amount',t.DoubleType(),True), \\\n",
    "    t.StructField('ingested_on',t.StringType(),True), \\\n",
    "    t.StructField('month',t.StringType(),True), \\\n",
    "    t.StructField('passanger_count',t.LongType(),True), \\\n",
    "    t.StructField('pickup_datetime',t.StringType(),True), \\\n",
    "    t.StructField('service',t.StringType(),True), \\\n",
    "    t.StructField('tip_amount',t.DoubleType(),True), \\\n",
    "    t.StructField('trip_distance',t.DoubleType(),True), \\\n",
    "#     t.StructField('year',t.StringType(),True), \\\n",
    "    t.StructField('pickup_month',t.StringType(),True)])\n",
    "    \n",
    "print(spark.read.schema(taxiSchema).parquet('hdfs:///tmp/data/nyc-taxi/taxi-data/output/section3/sorted').count())\n",
    "\n",
    "# stations = \"col1 STRING, col2 INT\"\n",
    "spark.createDataFrame(inputDF.rdd,schema=taxiSchema,verifySchema=True).show()"
   ]
  },
  {
   "cell_type": "markdown",
   "metadata": {},
   "source": [
    "### Lab 3.3 - Case Study 3: Find the average taxi rides per zip code on the 10 worst air quality days of each month"
   ]
  },
  {
   "cell_type": "markdown",
   "metadata": {},
   "source": [
    "Write functions to: \n",
    "* Select the best iteration of the taxi data for this workload\n",
    "* Ingest the borough zipcode mapping and explode the zip code columns\n",
    "* Ingest air quality data from: https://www.airnowapi.org/aq/observation/zipCode/historical/?format=application/json&zipCode={zipCode}&date={date}T00-0000&distance=100&API_KEY={apiKey}\n",
    "    * https://docs.airnowapi.org/HistoricalObservationsByZip/docs\n",
    "    * Make sure you have created a account at: https://docs.airnowapi.org/account/request/\n",
    "    * Join the borough zipcode mapping data to the taxi ride dataset\n",
    "    * Due to API call limitations only pull 100 days of air quality for the following zipcodes (11212, 10023) starting on 2020/06/01\n",
    "    * #### Be aware that you only have 500 requests per hour to that api endpoint\n",
    "* Find the average taxi rides per borough on the 10 worst air quality days of each month\n",
    "* Persist the resulting agg dataframe by calling .cache() on the dataframe\n",
    "* Run and time the full ingest\n",
    "\n",
    "Make sure to write the ingests with an eye on efficiency for this specific workload "
   ]
  },
  {
   "cell_type": "code",
   "execution_count": 42,
   "metadata": {},
   "outputs": [
    {
     "data": {
      "application/vnd.jupyter.widget-view+json": {
       "model_id": "85ccd02fd5fc450b9aaee6b44bcf11ef",
       "version_major": 2,
       "version_minor": 0
      },
      "text/plain": [
       "VBox()"
      ]
     },
     "metadata": {},
     "output_type": "display_data"
    },
    {
     "data": {
      "application/vnd.jupyter.widget-view+json": {
       "model_id": "",
       "version_major": 2,
       "version_minor": 0
      },
      "text/plain": [
       "FloatProgress(value=0.0, bar_style='info', description='Progress:', layout=Layout(height='25px', width='50%'),…"
      ]
     },
     "metadata": {},
     "output_type": "display_data"
    }
   ],
   "source": [
    "def get_taxi_df():\n",
    "    taxiDF = spark.read.parquet(\"hdfs:///tmp/data/nyc-taxi/taxi-data/output/section3/sorted\")\n",
    "    taxi_lookup = spark.read.json(\"hdfs:///tmp/data/nyc-taxi/zone-lookup/output/section2/json/\")\n",
    "    taxi_filtered = (taxiDF\n",
    "     .filter(taxiDF.pickup_datetime.isNotNull())\n",
    "     .filter(taxiDF.dropoff_datetime.isNotNull()))\n",
    "                     \n",
    "    groupDF = taxi_filtered.join(taxi_lookup.select(\"Borough\", \"LocationID\"), taxi_filtered.PULocationID == taxi_lookup.LocationID)\n",
    "    groupDF.show()\n",
    "    return groupDF\n",
    "\n",
    "def get_zip_code_mapping_df():\n",
    "    zipReadDF = spark.read.option('header', True).csv(f\"s3://{MY_BUCKET_NAME}/data/borough-zip-mapping/ny-zip-codes.csv\")\n",
    "    returnZipDF = zipReadDF.select('Borough', 'Neighborhood', f.explode(f.split('ZIP Codes', ',')).alias('zip'))\n",
    "    returnZipDF.show()\n",
    "    return returnZipDF\n",
    "\n",
    "\n",
    "def get_air_quality_df(zipDF):\n",
    "#     zipList = [x[0] for x in zipDF.select('zip').collect()]\n",
    "    zipList = ['11212', '10023']\n",
    "    airQualitySchema = t.StructType([\n",
    "        t.StructField(\"AQI\", t.LongType(), True),\n",
    "        t.StructField(\"Category\", t.MapType(t.StringType(), t.LongType()), True),\n",
    "        t.StructField(\"DateObserved\", t.StringType(), True),\n",
    "        t.StructField(\"HourObserved\", t.LongType(), True),\n",
    "        t.StructField(\"Latitude\", t.DoubleType(), True),\n",
    "        t.StructField(\"LocalTimeZone\", t.StringType(), True),\n",
    "        t.StructField(\"Longitude\", t.DoubleType(), True),\n",
    "        t.StructField(\"ParameterName\", t.StringType(), True),\n",
    "        t.StructField(\"ReportingArea\", t.StringType(), True),\n",
    "        t.StructField(\"StateCode\", t.StringType(), True),\n",
    "        t.StructField(\"zip\", t.StringType(), True),\n",
    "        ])\n",
    "    \n",
    "    airDF = spark.createDataFrame([], airQualitySchema)\n",
    "\n",
    "    for zipCode in zipList:\n",
    "        for d in range(0,99):\n",
    "            startDate = datetime.strptime(\"2020-06-01\", \"%Y-%m-%d\").date()\n",
    "            dateDelta = timedelta(days=d)\n",
    "            endDate = startDate + dateDelta\n",
    "            \n",
    "            apiPath = f\"https://www.airnowapi.org/aq/observation/zipCode/historical/?format=application/json&zipCode={zipCode}&date={endDate}T00-0000&distance=100&API_KEY=B79C872D-FC7A-4037-BFA6-F064276F2EB3\"\n",
    "            request = requests.get(apiPath)\n",
    "            requestDF = spark.createDataFrame(request.json())\n",
    "            requestDF = requestDF.withColumn('zip', f.lit(zipCode))\n",
    "            airDF = airDF.unionAll(requestDF)\n",
    "        \n",
    "    returnAirDF = airDF.withColumn(\"categoryNumber\", f.col(\"Category.Number\"))\n",
    "    returnAirDF.show()\n",
    "    \n",
    "    return returnAirDF\n",
    "\n",
    "def calculate_hottest_days(taxiDF, airQualityDF, zipDF):\n",
    "    joinAirDF = airQualityDF.filter(\"zip IN ('11212', '10023')\").withColumn('air_day', f.date_format(\"dateObserved\", \"yyyyMMdd\")).withColumnRenamed(\"zip\", \"air_zip\")\n",
    "    \n",
    "    zipDF = zipDF.withColumnRenamed('Borough', 'zipBorough')\n",
    "    \n",
    "    taxiZipDF = taxiDF.join(zipDF.select('zip', 'ZipBorough'), zipDF.zipBorough == taxiDF.Borough)\n",
    "    \n",
    "    joinTaxiDF = (taxiZipDF.withColumn(\"pickup_day\", f.date_format(\"pickup_datetime\", \"yyyyMMdd\"))\n",
    "                        .withColumn(\"pickup_month\", f.date_format(\"pickup_datetime\", \"yyyyMM\")))\n",
    "\n",
    "    joinCondition = [joinTaxiDF.pickup_day == joinAirDF.air_day, joinTaxiDF.zip == joinAirDF.air_zip]\n",
    "    \n",
    "    joinedAirDF = joinTaxiDF.join(joinAirDF.select('categoryNumber', 'air_day', 'air_zip'), joinCondition)\n",
    "    \n",
    "    aggDF = (joinedAirDF.groupBy('pickup_month', 'pickup_day', 'zip')\n",
    "                        .agg(f.count('pickup_day').alias('count_rides'), f.avg('categoryNumber').alias('avg_cat')))\n",
    "    \n",
    "    win = Window.partitionBy(\"zip\", \"pickup_month\").orderBy(f.desc(\"avg_cat\"), f.desc('count_rides'))\n",
    "    aggDF = aggDF.withColumn(\"row_num\", f.row_number().over(win)).where(\"row_num <= 10\")\n",
    "    \n",
    "    aggDF.show()\n",
    "    return aggDF"
   ]
  },
  {
   "cell_type": "code",
   "execution_count": 43,
   "metadata": {},
   "outputs": [
    {
     "data": {
      "application/vnd.jupyter.widget-view+json": {
       "model_id": "ff474aa22d27426a9bc280f0ed9e5156",
       "version_major": 2,
       "version_minor": 0
      },
      "text/plain": [
       "VBox()"
      ]
     },
     "metadata": {},
     "output_type": "display_data"
    },
    {
     "data": {
      "application/vnd.jupyter.widget-view+json": {
       "model_id": "",
       "version_major": 2,
       "version_minor": 0
      },
      "text/plain": [
       "FloatProgress(value=0.0, bar_style='info', description='Progress:', layout=Layout(height='25px', width='50%'),…"
      ]
     },
     "metadata": {},
     "output_type": "display_data"
    },
    {
     "name": "stdout",
     "output_type": "stream",
     "text": [
      "+------------+------------+--------------------+-----------+-------------------+-----+---------------+--------------------+-------+----------+-------------+----+------------+-------+----------+\n",
      "|DOLocationID|PULocationID|    dropoff_datetime|fare_amount|        ingested_on|month|passenger_count|     pickup_datetime|service|tip_amount|trip_distance|year|pickup_month|Borough|LocationID|\n",
      "+------------+------------+--------------------+-----------+-------------------+-----+---------------+--------------------+-------+----------+-------------+----+------------+-------+----------+\n",
      "|           1|           1|2020-01-01T03:50:...|       null|2020-10-27 22:50:37|   01|           null|2020-01-01T03:46:...|  fhvhv|      null|         null|2020|      202001|    EWR|         1|\n",
      "|           1|           1|2020-01-01T14:33:...|       null|2020-10-27 22:50:37|   01|           null|2020-01-01T14:32:...|    fhv|      null|         null|2020|      202001|    EWR|         1|\n",
      "|           1|           1|2020-01-02T13:23:...|       null|2020-10-27 22:50:37|   01|           null|2020-01-02T11:44:...|    fhv|      null|         null|2020|      202001|    EWR|         1|\n",
      "|           1|           1|2020-01-02T16:33:...|       null|2020-10-27 22:50:37|   01|           null|2020-01-02T16:00:...|    fhv|      null|         null|2020|      202001|    EWR|         1|\n",
      "|           1|           1|2020-01-02T18:00:...|       null|2020-10-27 22:50:37|   01|           null|2020-01-02T16:10:...|    fhv|      null|         null|2020|      202001|    EWR|         1|\n",
      "|           1|           1|2020-01-03T16:33:...|       null|2020-10-27 22:50:37|   01|           null|2020-01-03T12:22:...|    fhv|      null|         null|2020|      202001|    EWR|         1|\n",
      "|           1|           1|2020-01-04T06:30:...|       null|2020-10-27 22:50:37|   01|           null|2020-01-04T06:18:...|  fhvhv|      null|         null|2020|      202001|    EWR|         1|\n",
      "|           1|           1|2020-01-04T10:42:...|       null|2020-10-27 22:50:37|   01|           null|2020-01-04T09:51:...|    fhv|      null|         null|2020|      202001|    EWR|         1|\n",
      "|           1|           1|2020-01-04T13:40:...|       null|2020-10-27 22:50:37|   01|           null|2020-01-04T12:55:...|  fhvhv|      null|         null|2020|      202001|    EWR|         1|\n",
      "|           1|           1|2020-01-05T09:40:...|       null|2020-10-27 22:50:37|   01|           null|2020-01-05T07:56:...|    fhv|      null|         null|2020|      202001|    EWR|         1|\n",
      "|           1|           1|2020-01-05T13:57:...|       null|2020-10-27 22:50:37|   01|           null|2020-01-05T13:45:...|    fhv|      null|         null|2020|      202001|    EWR|         1|\n",
      "|           1|           1|2020-01-05T17:38:...|       null|2020-10-27 22:50:37|   01|           null|2020-01-05T15:37:...|    fhv|      null|         null|2020|      202001|    EWR|         1|\n",
      "|           1|           1|2020-01-06T05:13:...|       null|2020-10-27 22:50:37|   01|           null|2020-01-06T05:11:...|    fhv|      null|         null|2020|      202001|    EWR|         1|\n",
      "|           1|           1|2020-01-08T13:25:...|       null|2020-10-27 22:50:37|   01|           null|2020-01-08T13:25:...|    fhv|      null|         null|2020|      202001|    EWR|         1|\n",
      "|           1|           1|2020-01-09T14:14:...|       null|2020-10-27 22:50:37|   01|           null|2020-01-09T13:52:...|    fhv|      null|         null|2020|      202001|    EWR|         1|\n",
      "|           1|           1|2020-01-11T15:42:...|       null|2020-10-27 22:50:37|   01|           null|2020-01-11T14:48:...|    fhv|      null|         null|2020|      202001|    EWR|         1|\n",
      "|           1|           1|2020-01-11T23:08:...|       null|2020-10-27 22:50:37|   01|           null|2020-01-11T22:20:...|    fhv|      null|         null|2020|      202001|    EWR|         1|\n",
      "|           1|           1|2020-01-12T14:16:...|       null|2020-10-27 22:50:37|   01|           null|2020-01-12T14:16:...|    fhv|      null|         null|2020|      202001|    EWR|         1|\n",
      "|           1|           1|2020-01-12T17:47:...|       null|2020-10-27 22:50:37|   01|           null|2020-01-12T17:46:...|    fhv|      null|         null|2020|      202001|    EWR|         1|\n",
      "|           1|           1|2020-01-12T22:08:...|       null|2020-10-27 22:50:37|   01|           null|2020-01-12T20:29:...|    fhv|      null|         null|2020|      202001|    EWR|         1|\n",
      "+------------+------------+--------------------+-----------+-------------------+-----+---------------+--------------------+-------+----------+-------------+----+------------+-------+----------+\n",
      "only showing top 20 rows\n",
      "\n",
      "+-------+--------------------+------+\n",
      "|Borough|        Neighborhood|   zip|\n",
      "+-------+--------------------+------+\n",
      "|  Bronx|       Central Bronx| 10453|\n",
      "|  Bronx|       Central Bronx| 10457|\n",
      "|  Bronx|       Central Bronx| 10460|\n",
      "|  Bronx|Bronx Park and Fo...| 10458|\n",
      "|  Bronx|Bronx Park and Fo...| 10467|\n",
      "|  Bronx|Bronx Park and Fo...| 10468|\n",
      "|  Bronx|High Bridge and M...| 10451|\n",
      "|  Bronx|High Bridge and M...| 10452|\n",
      "|  Bronx|High Bridge and M...| 10456|\n",
      "|  Bronx|Hunts Point and M...| 10454|\n",
      "|  Bronx|Hunts Point and M...| 10455|\n",
      "|  Bronx|Hunts Point and M...| 10459|\n",
      "|  Bronx|Hunts Point and M...| 10474|\n",
      "|  Bronx|Kingsbridge and R...| 10463|\n",
      "|  Bronx|Kingsbridge and R...| 10471|\n",
      "|  Bronx|     Northeast Bronx| 10466|\n",
      "|  Bronx|     Northeast Bronx| 10469|\n",
      "|  Bronx|     Northeast Bronx| 10470|\n",
      "|  Bronx|     Northeast Bronx| 10475|\n",
      "|  Bronx|     Southeast Bronx| 10461|\n",
      "+-------+--------------------+------+\n",
      "only showing top 20 rows\n",
      "\n",
      "+---+--------------------+------------+------------+--------+-------------+---------+-------------+--------------------+---------+-----+--------------+\n",
      "|AQI|            Category|DateObserved|HourObserved|Latitude|LocalTimeZone|Longitude|ParameterName|       ReportingArea|StateCode|  zip|categoryNumber|\n",
      "+---+--------------------+------------+------------+--------+-------------+---------+-------------+--------------------+---------+-----+--------------+\n",
      "| 40|[Number -> 1, Nam...| 2020-06-01 |           0| 40.8419|          EST| -73.8359|        OZONE|New York City Region|       NY|11212|             1|\n",
      "|  8|[Number -> 1, Nam...| 2020-06-01 |           0| 40.8419|          EST| -73.8359|        PM2.5|New York City Region|       NY|11212|             1|\n",
      "|  9|[Number -> 1, Nam...| 2020-06-01 |           0| 40.8419|          EST| -73.8359|         PM10|New York City Region|       NY|11212|             1|\n",
      "| 48|[Number -> 1, Nam...| 2020-06-02 |           0| 40.8419|          EST| -73.8359|        OZONE|New York City Region|       NY|11212|             1|\n",
      "| 68|[Number -> 2, Nam...| 2020-06-02 |           0| 40.8419|          EST| -73.8359|        PM2.5|New York City Region|       NY|11212|             2|\n",
      "| 16|[Number -> 1, Nam...| 2020-06-02 |           0| 40.8419|          EST| -73.8359|         PM10|New York City Region|       NY|11212|             1|\n",
      "| 45|[Number -> 1, Nam...| 2020-06-03 |           0| 40.8419|          EST| -73.8359|        OZONE|New York City Region|       NY|11212|             1|\n",
      "| 36|[Number -> 1, Nam...| 2020-06-03 |           0| 40.8419|          EST| -73.8359|        PM2.5|New York City Region|       NY|11212|             1|\n",
      "| 18|[Number -> 1, Nam...| 2020-06-03 |           0| 40.8419|          EST| -73.8359|         PM10|New York City Region|       NY|11212|             1|\n",
      "| 77|[Number -> 2, Nam...| 2020-06-04 |           0| 40.8419|          EST| -73.8359|        OZONE|New York City Region|       NY|11212|             2|\n",
      "| 34|[Number -> 1, Nam...| 2020-06-04 |           0| 40.8419|          EST| -73.8359|        PM2.5|New York City Region|       NY|11212|             1|\n",
      "| 21|[Number -> 1, Nam...| 2020-06-04 |           0| 40.8419|          EST| -73.8359|         PM10|New York City Region|       NY|11212|             1|\n",
      "| 42|[Number -> 1, Nam...| 2020-06-05 |           0| 40.8419|          EST| -73.8359|        OZONE|New York City Region|       NY|11212|             1|\n",
      "| 34|[Number -> 1, Nam...| 2020-06-05 |           0| 40.8419|          EST| -73.8359|        PM2.5|New York City Region|       NY|11212|             1|\n",
      "| 18|[Number -> 1, Nam...| 2020-06-05 |           0| 40.8419|          EST| -73.8359|         PM10|New York City Region|       NY|11212|             1|\n",
      "| 64|[Number -> 2, Nam...| 2020-06-06 |           0| 40.8419|          EST| -73.8359|        OZONE|New York City Region|       NY|11212|             2|\n",
      "| 29|[Number -> 1, Nam...| 2020-06-06 |           0| 40.8419|          EST| -73.8359|        PM2.5|New York City Region|       NY|11212|             1|\n",
      "| 17|[Number -> 1, Nam...| 2020-06-06 |           0| 40.8419|          EST| -73.8359|         PM10|New York City Region|       NY|11212|             1|\n",
      "| 33|[Number -> 1, Nam...| 2020-06-07 |           0| 40.8419|          EST| -73.8359|        OZONE|New York City Region|       NY|11212|             1|\n",
      "|  8|[Number -> 1, Nam...| 2020-06-07 |           0| 40.8419|          EST| -73.8359|        PM2.5|New York City Region|       NY|11212|             1|\n",
      "+---+--------------------+------------+------------+--------+-------------+---------+-------------+--------------------+---------+-----+--------------+\n",
      "only showing top 20 rows\n",
      "\n",
      "+---+--------------------+------------+------------+--------+-------------+---------+-------------+--------------------+---------+-----+--------------+\n",
      "|AQI|            Category|DateObserved|HourObserved|Latitude|LocalTimeZone|Longitude|ParameterName|       ReportingArea|StateCode|  zip|categoryNumber|\n",
      "+---+--------------------+------------+------------+--------+-------------+---------+-------------+--------------------+---------+-----+--------------+\n",
      "| 40|[Number -> 1, Nam...| 2020-06-01 |           0| 40.8419|          EST| -73.8359|        OZONE|New York City Region|       NY|11212|             1|\n",
      "|  8|[Number -> 1, Nam...| 2020-06-01 |           0| 40.8419|          EST| -73.8359|        PM2.5|New York City Region|       NY|11212|             1|\n",
      "|  9|[Number -> 1, Nam...| 2020-06-01 |           0| 40.8419|          EST| -73.8359|         PM10|New York City Region|       NY|11212|             1|\n",
      "| 48|[Number -> 1, Nam...| 2020-06-02 |           0| 40.8419|          EST| -73.8359|        OZONE|New York City Region|       NY|11212|             1|\n",
      "| 68|[Number -> 2, Nam...| 2020-06-02 |           0| 40.8419|          EST| -73.8359|        PM2.5|New York City Region|       NY|11212|             2|\n",
      "| 16|[Number -> 1, Nam...| 2020-06-02 |           0| 40.8419|          EST| -73.8359|         PM10|New York City Region|       NY|11212|             1|\n",
      "| 45|[Number -> 1, Nam...| 2020-06-03 |           0| 40.8419|          EST| -73.8359|        OZONE|New York City Region|       NY|11212|             1|\n",
      "| 36|[Number -> 1, Nam...| 2020-06-03 |           0| 40.8419|          EST| -73.8359|        PM2.5|New York City Region|       NY|11212|             1|\n",
      "| 18|[Number -> 1, Nam...| 2020-06-03 |           0| 40.8419|          EST| -73.8359|         PM10|New York City Region|       NY|11212|             1|\n",
      "| 77|[Number -> 2, Nam...| 2020-06-04 |           0| 40.8419|          EST| -73.8359|        OZONE|New York City Region|       NY|11212|             2|\n",
      "| 34|[Number -> 1, Nam...| 2020-06-04 |           0| 40.8419|          EST| -73.8359|        PM2.5|New York City Region|       NY|11212|             1|\n",
      "| 21|[Number -> 1, Nam...| 2020-06-04 |           0| 40.8419|          EST| -73.8359|         PM10|New York City Region|       NY|11212|             1|\n",
      "| 42|[Number -> 1, Nam...| 2020-06-05 |           0| 40.8419|          EST| -73.8359|        OZONE|New York City Region|       NY|11212|             1|\n",
      "| 34|[Number -> 1, Nam...| 2020-06-05 |           0| 40.8419|          EST| -73.8359|        PM2.5|New York City Region|       NY|11212|             1|\n",
      "| 18|[Number -> 1, Nam...| 2020-06-05 |           0| 40.8419|          EST| -73.8359|         PM10|New York City Region|       NY|11212|             1|\n",
      "| 64|[Number -> 2, Nam...| 2020-06-06 |           0| 40.8419|          EST| -73.8359|        OZONE|New York City Region|       NY|11212|             2|\n",
      "| 29|[Number -> 1, Nam...| 2020-06-06 |           0| 40.8419|          EST| -73.8359|        PM2.5|New York City Region|       NY|11212|             1|\n",
      "| 17|[Number -> 1, Nam...| 2020-06-06 |           0| 40.8419|          EST| -73.8359|         PM10|New York City Region|       NY|11212|             1|\n",
      "| 33|[Number -> 1, Nam...| 2020-06-07 |           0| 40.8419|          EST| -73.8359|        OZONE|New York City Region|       NY|11212|             1|\n",
      "|  8|[Number -> 1, Nam...| 2020-06-07 |           0| 40.8419|          EST| -73.8359|        PM2.5|New York City Region|       NY|11212|             1|\n",
      "+---+--------------------+------------+------------+--------+-------------+---------+-------------+--------------------+---------+-----+--------------+\n",
      "only showing top 20 rows\n",
      "\n",
      "+------------+----------+-----+-----------+------------------+-------+\n",
      "|pickup_month|pickup_day|  zip|count_rides|           avg_cat|row_num|\n",
      "+------------+----------+-----+-----------+------------------+-------+\n",
      "|      202006|  20200619|10023|          3|               1.0|      1|\n",
      "|      202007|  20200731|10023|          3|1.3333333333333333|      1|\n",
      "|      202007|  20200710|10023|         15|               1.0|      2|\n",
      "+------------+----------+-----+-----------+------------------+-------+\n",
      "\n",
      "+------------+----------+-----+-----------+------------------+-------+\n",
      "|pickup_month|pickup_day|  zip|count_rides|           avg_cat|row_num|\n",
      "+------------+----------+-----+-----------+------------------+-------+\n",
      "|      202006|  20200619|10023|          3|               1.0|      1|\n",
      "|      202007|  20200731|10023|          3|1.3333333333333333|      1|\n",
      "|      202007|  20200710|10023|         15|               1.0|      2|\n",
      "+------------+----------+-----+-----------+------------------+-------+"
     ]
    }
   ],
   "source": [
    "def run_case_study():\n",
    "    taxiDF = get_taxi_df()\n",
    "    zipDF = get_zip_code_mapping_df()\n",
    "    airQualityDF = get_air_quality_df(zipDF)\n",
    "    airQualityDF.show()\n",
    "    aggedDF = calculate_hottest_days(taxiDF, airQualityDF, zipDF)\n",
    "    aggedDF.cache()\n",
    "    aggedDF.show()\n",
    "    return aggedDF\n",
    "\n",
    "writeAggDF = run_case_study()"
   ]
  },
  {
   "cell_type": "markdown",
   "metadata": {},
   "source": [
    "### Lab 3.4 - Write out data out to S3 for long term storage\n",
    "\n",
    "Write functions to:\n",
    "* Write the taxi/taxi-lookup data to S3 using the most appropriate storage format/partitioning methodology\n",
    "* Write the cached dataframe from the previous usecase to S3 using the most appropriate storage format/partitioning methodology\n"
   ]
  },
  {
   "cell_type": "code",
   "execution_count": 44,
   "metadata": {},
   "outputs": [
    {
     "data": {
      "application/vnd.jupyter.widget-view+json": {
       "model_id": "de68648d423542fb9a8b821538b72671",
       "version_major": 2,
       "version_minor": 0
      },
      "text/plain": [
       "VBox()"
      ]
     },
     "metadata": {},
     "output_type": "display_data"
    },
    {
     "data": {
      "application/vnd.jupyter.widget-view+json": {
       "model_id": "",
       "version_major": 2,
       "version_minor": 0
      },
      "text/plain": [
       "FloatProgress(value=0.0, bar_style='info', description='Progress:', layout=Layout(height='25px', width='50%'),…"
      ]
     },
     "metadata": {},
     "output_type": "display_data"
    }
   ],
   "source": [
    "# Normally want to avoid writing to EBS then copying to S3\n",
    "# Intermediate workloads should be written to local EBS, while finished workloads/longterm storage should be read directly from/written directly to S3\n",
    "# Luckily, EMRFS let's us write out directly to S3\n",
    "\n",
    "def write_to_s3(writeAggDF):\n",
    "    taxiDF = (spark\n",
    "              .read\n",
    "              .json(taxiPath)\n",
    "              .withColumn(\"pickup_month\", f.date_format(\"pickup_datetime\", \"yyyyMM\")))\n",
    "    \n",
    "    taxiLookupDF = (spark\n",
    "              .read\n",
    "              .json(taxiLookupPath))\n",
    "    \n",
    "    (taxiDF.orderBy('pickup_month', 'passenger_count', 'PULocationID', 'DOLocationID', 'trip_distance', 'fare_amount', 'tip_amount', 'dropoff_datetime', 'pickup_datetime')\n",
    "        .coalesce(5)     \n",
    "        .write\n",
    "        .mode(\"overwrite\")\n",
    "        .partitionBy('pickup_month')\n",
    "        .parquet(f\"s3://{MY_BUCKET_NAME}/tmp/data/nyc-taxi/taxi-data/final\"))\n",
    "    \n",
    "    (taxiLookupDF.orderBy('borough', 'service_zone', 'locationID', 'zone')\n",
    "        .coalesce(1)     \n",
    "        .write\n",
    "        .mode(\"overwrite\")\n",
    "        .parquet(f\"s3://{MY_BUCKET_NAME}/tmp/data/nyc-taxi/taxi-lookup/final\"))\n",
    "\n",
    "    (writeAggDF.orderBy('pickup_month', 'row_num', 'zip', 'avg_cat', 'count_rides')\n",
    "        .coalesce(1)     \n",
    "        .write\n",
    "        .mode(\"overwrite\")\n",
    "        .partitionBy('pickup_month')\n",
    "        .parquet(f\"s3://{MY_BUCKET_NAME}/tmp/data/nyc-taxi/taxi-agg/final\"))"
   ]
  },
  {
   "cell_type": "code",
   "execution_count": 45,
   "metadata": {},
   "outputs": [
    {
     "data": {
      "application/vnd.jupyter.widget-view+json": {
       "model_id": "a298ab47613c4e7e9243c266c24151d2",
       "version_major": 2,
       "version_minor": 0
      },
      "text/plain": [
       "VBox()"
      ]
     },
     "metadata": {},
     "output_type": "display_data"
    },
    {
     "data": {
      "application/vnd.jupyter.widget-view+json": {
       "model_id": "",
       "version_major": 2,
       "version_minor": 0
      },
      "text/plain": [
       "FloatProgress(value=0.0, bar_style='info', description='Progress:', layout=Layout(height='25px', width='50%'),…"
      ]
     },
     "metadata": {},
     "output_type": "display_data"
    },
    {
     "name": "stdout",
     "output_type": "stream",
     "text": [
      "(122.5077743490001, None)"
     ]
    }
   ],
   "source": [
    "print(timer_method(\"write_to_s3(writeAggDF)\"))"
   ]
  },
  {
   "cell_type": "code",
   "execution_count": null,
   "metadata": {},
   "outputs": [],
   "source": []
  }
 ],
 "metadata": {
  "kernelspec": {
   "display_name": "PySpark",
   "language": "",
   "name": "pysparkkernel"
  },
  "language_info": {
   "codemirror_mode": {
    "name": "python",
    "version": 2
   },
   "mimetype": "text/x-python",
   "name": "pyspark",
   "pygments_lexer": "python2"
  }
 },
 "nbformat": 4,
 "nbformat_minor": 4
}
